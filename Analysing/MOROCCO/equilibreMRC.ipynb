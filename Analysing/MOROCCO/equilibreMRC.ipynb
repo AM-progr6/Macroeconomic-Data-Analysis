{
 "cells": [
  {
   "cell_type": "code",
   "execution_count": 11,
   "id": "ffd1b291",
   "metadata": {},
   "outputs": [],
   "source": [
    "#! pip install numpy pandas matplotlib ipympl plotly\n",
    "\n",
    "\n"
   ]
  },
  {
   "cell_type": "code",
   "execution_count": 2,
   "id": "5acf8310",
   "metadata": {},
   "outputs": [],
   "source": [
    "import numpy as np\n",
    "import pandas as pd\n",
    "import matplotlib.pyplot as plt\n",
    "import plotly.graph_objs as go\n",
    "\n"
   ]
  },
  {
   "cell_type": "code",
   "execution_count": 3,
   "id": "28687588",
   "metadata": {},
   "outputs": [
    {
     "data": {
      "text/html": [
       "<div>\n",
       "<style scoped>\n",
       "    .dataframe tbody tr th:only-of-type {\n",
       "        vertical-align: middle;\n",
       "    }\n",
       "\n",
       "    .dataframe tbody tr th {\n",
       "        vertical-align: top;\n",
       "    }\n",
       "\n",
       "    .dataframe thead th {\n",
       "        text-align: right;\n",
       "    }\n",
       "</style>\n",
       "<table border=\"1\" class=\"dataframe\">\n",
       "  <thead>\n",
       "    <tr style=\"text-align: right;\">\n",
       "      <th></th>\n",
       "      <th>Annee</th>\n",
       "      <th>Croissance economique</th>\n",
       "      <th>Inflation</th>\n",
       "      <th>Chomage</th>\n",
       "    </tr>\n",
       "  </thead>\n",
       "  <tbody>\n",
       "    <tr>\n",
       "      <th>0</th>\n",
       "      <td>2015</td>\n",
       "      <td>5.7</td>\n",
       "      <td>1.5</td>\n",
       "      <td>9.2</td>\n",
       "    </tr>\n",
       "    <tr>\n",
       "      <th>1</th>\n",
       "      <td>2016</td>\n",
       "      <td>0.9</td>\n",
       "      <td>1.0</td>\n",
       "      <td>9.0</td>\n",
       "    </tr>\n",
       "    <tr>\n",
       "      <th>2</th>\n",
       "      <td>2017</td>\n",
       "      <td>4.5</td>\n",
       "      <td>1.3</td>\n",
       "      <td>10.6</td>\n",
       "    </tr>\n",
       "    <tr>\n",
       "      <th>3</th>\n",
       "      <td>2018</td>\n",
       "      <td>3.1</td>\n",
       "      <td>1.7</td>\n",
       "      <td>9.4</td>\n",
       "    </tr>\n",
       "    <tr>\n",
       "      <th>4</th>\n",
       "      <td>2019</td>\n",
       "      <td>2.1</td>\n",
       "      <td>-0.2</td>\n",
       "      <td>10.2</td>\n",
       "    </tr>\n",
       "    <tr>\n",
       "      <th>5</th>\n",
       "      <td>2020</td>\n",
       "      <td>-5.4</td>\n",
       "      <td>1.4</td>\n",
       "      <td>12.2</td>\n",
       "    </tr>\n",
       "    <tr>\n",
       "      <th>6</th>\n",
       "      <td>2021</td>\n",
       "      <td>7.9</td>\n",
       "      <td>0.1</td>\n",
       "      <td>11.9</td>\n",
       "    </tr>\n",
       "    <tr>\n",
       "      <th>7</th>\n",
       "      <td>2022</td>\n",
       "      <td>1.0</td>\n",
       "      <td>4.0</td>\n",
       "      <td>12.9</td>\n",
       "    </tr>\n",
       "    <tr>\n",
       "      <th>8</th>\n",
       "      <td>2023</td>\n",
       "      <td>4.2</td>\n",
       "      <td>9.1</td>\n",
       "      <td>13.3</td>\n",
       "    </tr>\n",
       "    <tr>\n",
       "      <th>9</th>\n",
       "      <td>2024</td>\n",
       "      <td>3.7</td>\n",
       "      <td>1.2</td>\n",
       "      <td>12.9</td>\n",
       "    </tr>\n",
       "  </tbody>\n",
       "</table>\n",
       "</div>"
      ],
      "text/plain": [
       "   Annee  Croissance economique   Inflation  Chomage\n",
       "0   2015                     5.7        1.5      9.2\n",
       "1   2016                     0.9        1.0      9.0\n",
       "2   2017                     4.5        1.3     10.6\n",
       "3   2018                     3.1        1.7      9.4\n",
       "4   2019                     2.1       -0.2     10.2\n",
       "5   2020                    -5.4        1.4     12.2\n",
       "6   2021                     7.9        0.1     11.9\n",
       "7   2022                     1.0        4.0     12.9\n",
       "8   2023                     4.2        9.1     13.3\n",
       "9   2024                     3.7        1.2     12.9"
      ]
     },
     "execution_count": 3,
     "metadata": {},
     "output_type": "execute_result"
    }
   ],
   "source": [
    "data=pd.read_csv(\"EcoMRC.csv\",delimiter=\",\")\n",
    "data.head(10)\n"
   ]
  },
  {
   "cell_type": "code",
   "execution_count": 4,
   "id": "6f591258",
   "metadata": {},
   "outputs": [],
   "source": [
    "x_data=np.array(data[\"Croissance economique \"])\n",
    "y_data=np.array(data['Inflation'])\n",
    "z_data=np.array(data['Chomage'])\n",
    "year=np.array(data[\"Annee\"])"
   ]
  },
  {
   "cell_type": "code",
   "execution_count": 5,
   "id": "9566b205",
   "metadata": {},
   "outputs": [
    {
     "data": {
      "application/vnd.plotly.v1+json": {
       "config": {
        "plotlyServerURL": "https://plot.ly"
       },
       "data": [
        {
         "mode": "lines+markers",
         "name": "Economic Growth (%)",
         "type": "scatter",
         "x": [
          2015,
          2016,
          2017,
          2018,
          2019,
          2020,
          2021,
          2022,
          2023,
          2024
         ],
         "y": [
          5.7,
          0.9,
          4.5,
          3.1,
          2.1,
          -5.4,
          7.9,
          1,
          4.2,
          3.7
         ]
        },
        {
         "mode": "lines+markers",
         "name": "Inflation (%)",
         "type": "scatter",
         "x": [
          2015,
          2016,
          2017,
          2018,
          2019,
          2020,
          2021,
          2022,
          2023,
          2024
         ],
         "y": [
          1.5,
          1,
          1.3,
          1.7,
          -0.2,
          1.4,
          0.1,
          4,
          9.1,
          1.2
         ]
        },
        {
         "mode": "lines+markers",
         "name": "Unemployment rate (%)",
         "type": "scatter",
         "x": [
          2015,
          2016,
          2017,
          2018,
          2019,
          2020,
          2021,
          2022,
          2023,
          2024
         ],
         "y": [
          9.2,
          9,
          10.6,
          9.4,
          10.2,
          12.2,
          11.9,
          12.9,
          13.3,
          12.9
         ]
        }
       ],
       "layout": {
        "hovermode": "x unified",
        "template": {
         "data": {
          "bar": [
           {
            "error_x": {
             "color": "#2a3f5f"
            },
            "error_y": {
             "color": "#2a3f5f"
            },
            "marker": {
             "line": {
              "color": "#E5ECF6",
              "width": 0.5
             },
             "pattern": {
              "fillmode": "overlay",
              "size": 10,
              "solidity": 0.2
             }
            },
            "type": "bar"
           }
          ],
          "barpolar": [
           {
            "marker": {
             "line": {
              "color": "#E5ECF6",
              "width": 0.5
             },
             "pattern": {
              "fillmode": "overlay",
              "size": 10,
              "solidity": 0.2
             }
            },
            "type": "barpolar"
           }
          ],
          "carpet": [
           {
            "aaxis": {
             "endlinecolor": "#2a3f5f",
             "gridcolor": "white",
             "linecolor": "white",
             "minorgridcolor": "white",
             "startlinecolor": "#2a3f5f"
            },
            "baxis": {
             "endlinecolor": "#2a3f5f",
             "gridcolor": "white",
             "linecolor": "white",
             "minorgridcolor": "white",
             "startlinecolor": "#2a3f5f"
            },
            "type": "carpet"
           }
          ],
          "choropleth": [
           {
            "colorbar": {
             "outlinewidth": 0,
             "ticks": ""
            },
            "type": "choropleth"
           }
          ],
          "contour": [
           {
            "colorbar": {
             "outlinewidth": 0,
             "ticks": ""
            },
            "colorscale": [
             [
              0,
              "#0d0887"
             ],
             [
              0.1111111111111111,
              "#46039f"
             ],
             [
              0.2222222222222222,
              "#7201a8"
             ],
             [
              0.3333333333333333,
              "#9c179e"
             ],
             [
              0.4444444444444444,
              "#bd3786"
             ],
             [
              0.5555555555555556,
              "#d8576b"
             ],
             [
              0.6666666666666666,
              "#ed7953"
             ],
             [
              0.7777777777777778,
              "#fb9f3a"
             ],
             [
              0.8888888888888888,
              "#fdca26"
             ],
             [
              1,
              "#f0f921"
             ]
            ],
            "type": "contour"
           }
          ],
          "contourcarpet": [
           {
            "colorbar": {
             "outlinewidth": 0,
             "ticks": ""
            },
            "type": "contourcarpet"
           }
          ],
          "heatmap": [
           {
            "colorbar": {
             "outlinewidth": 0,
             "ticks": ""
            },
            "colorscale": [
             [
              0,
              "#0d0887"
             ],
             [
              0.1111111111111111,
              "#46039f"
             ],
             [
              0.2222222222222222,
              "#7201a8"
             ],
             [
              0.3333333333333333,
              "#9c179e"
             ],
             [
              0.4444444444444444,
              "#bd3786"
             ],
             [
              0.5555555555555556,
              "#d8576b"
             ],
             [
              0.6666666666666666,
              "#ed7953"
             ],
             [
              0.7777777777777778,
              "#fb9f3a"
             ],
             [
              0.8888888888888888,
              "#fdca26"
             ],
             [
              1,
              "#f0f921"
             ]
            ],
            "type": "heatmap"
           }
          ],
          "heatmapgl": [
           {
            "colorbar": {
             "outlinewidth": 0,
             "ticks": ""
            },
            "colorscale": [
             [
              0,
              "#0d0887"
             ],
             [
              0.1111111111111111,
              "#46039f"
             ],
             [
              0.2222222222222222,
              "#7201a8"
             ],
             [
              0.3333333333333333,
              "#9c179e"
             ],
             [
              0.4444444444444444,
              "#bd3786"
             ],
             [
              0.5555555555555556,
              "#d8576b"
             ],
             [
              0.6666666666666666,
              "#ed7953"
             ],
             [
              0.7777777777777778,
              "#fb9f3a"
             ],
             [
              0.8888888888888888,
              "#fdca26"
             ],
             [
              1,
              "#f0f921"
             ]
            ],
            "type": "heatmapgl"
           }
          ],
          "histogram": [
           {
            "marker": {
             "pattern": {
              "fillmode": "overlay",
              "size": 10,
              "solidity": 0.2
             }
            },
            "type": "histogram"
           }
          ],
          "histogram2d": [
           {
            "colorbar": {
             "outlinewidth": 0,
             "ticks": ""
            },
            "colorscale": [
             [
              0,
              "#0d0887"
             ],
             [
              0.1111111111111111,
              "#46039f"
             ],
             [
              0.2222222222222222,
              "#7201a8"
             ],
             [
              0.3333333333333333,
              "#9c179e"
             ],
             [
              0.4444444444444444,
              "#bd3786"
             ],
             [
              0.5555555555555556,
              "#d8576b"
             ],
             [
              0.6666666666666666,
              "#ed7953"
             ],
             [
              0.7777777777777778,
              "#fb9f3a"
             ],
             [
              0.8888888888888888,
              "#fdca26"
             ],
             [
              1,
              "#f0f921"
             ]
            ],
            "type": "histogram2d"
           }
          ],
          "histogram2dcontour": [
           {
            "colorbar": {
             "outlinewidth": 0,
             "ticks": ""
            },
            "colorscale": [
             [
              0,
              "#0d0887"
             ],
             [
              0.1111111111111111,
              "#46039f"
             ],
             [
              0.2222222222222222,
              "#7201a8"
             ],
             [
              0.3333333333333333,
              "#9c179e"
             ],
             [
              0.4444444444444444,
              "#bd3786"
             ],
             [
              0.5555555555555556,
              "#d8576b"
             ],
             [
              0.6666666666666666,
              "#ed7953"
             ],
             [
              0.7777777777777778,
              "#fb9f3a"
             ],
             [
              0.8888888888888888,
              "#fdca26"
             ],
             [
              1,
              "#f0f921"
             ]
            ],
            "type": "histogram2dcontour"
           }
          ],
          "mesh3d": [
           {
            "colorbar": {
             "outlinewidth": 0,
             "ticks": ""
            },
            "type": "mesh3d"
           }
          ],
          "parcoords": [
           {
            "line": {
             "colorbar": {
              "outlinewidth": 0,
              "ticks": ""
             }
            },
            "type": "parcoords"
           }
          ],
          "pie": [
           {
            "automargin": true,
            "type": "pie"
           }
          ],
          "scatter": [
           {
            "fillpattern": {
             "fillmode": "overlay",
             "size": 10,
             "solidity": 0.2
            },
            "type": "scatter"
           }
          ],
          "scatter3d": [
           {
            "line": {
             "colorbar": {
              "outlinewidth": 0,
              "ticks": ""
             }
            },
            "marker": {
             "colorbar": {
              "outlinewidth": 0,
              "ticks": ""
             }
            },
            "type": "scatter3d"
           }
          ],
          "scattercarpet": [
           {
            "marker": {
             "colorbar": {
              "outlinewidth": 0,
              "ticks": ""
             }
            },
            "type": "scattercarpet"
           }
          ],
          "scattergeo": [
           {
            "marker": {
             "colorbar": {
              "outlinewidth": 0,
              "ticks": ""
             }
            },
            "type": "scattergeo"
           }
          ],
          "scattergl": [
           {
            "marker": {
             "colorbar": {
              "outlinewidth": 0,
              "ticks": ""
             }
            },
            "type": "scattergl"
           }
          ],
          "scattermapbox": [
           {
            "marker": {
             "colorbar": {
              "outlinewidth": 0,
              "ticks": ""
             }
            },
            "type": "scattermapbox"
           }
          ],
          "scatterpolar": [
           {
            "marker": {
             "colorbar": {
              "outlinewidth": 0,
              "ticks": ""
             }
            },
            "type": "scatterpolar"
           }
          ],
          "scatterpolargl": [
           {
            "marker": {
             "colorbar": {
              "outlinewidth": 0,
              "ticks": ""
             }
            },
            "type": "scatterpolargl"
           }
          ],
          "scatterternary": [
           {
            "marker": {
             "colorbar": {
              "outlinewidth": 0,
              "ticks": ""
             }
            },
            "type": "scatterternary"
           }
          ],
          "surface": [
           {
            "colorbar": {
             "outlinewidth": 0,
             "ticks": ""
            },
            "colorscale": [
             [
              0,
              "#0d0887"
             ],
             [
              0.1111111111111111,
              "#46039f"
             ],
             [
              0.2222222222222222,
              "#7201a8"
             ],
             [
              0.3333333333333333,
              "#9c179e"
             ],
             [
              0.4444444444444444,
              "#bd3786"
             ],
             [
              0.5555555555555556,
              "#d8576b"
             ],
             [
              0.6666666666666666,
              "#ed7953"
             ],
             [
              0.7777777777777778,
              "#fb9f3a"
             ],
             [
              0.8888888888888888,
              "#fdca26"
             ],
             [
              1,
              "#f0f921"
             ]
            ],
            "type": "surface"
           }
          ],
          "table": [
           {
            "cells": {
             "fill": {
              "color": "#EBF0F8"
             },
             "line": {
              "color": "white"
             }
            },
            "header": {
             "fill": {
              "color": "#C8D4E3"
             },
             "line": {
              "color": "white"
             }
            },
            "type": "table"
           }
          ]
         },
         "layout": {
          "annotationdefaults": {
           "arrowcolor": "#2a3f5f",
           "arrowhead": 0,
           "arrowwidth": 1
          },
          "autotypenumbers": "strict",
          "coloraxis": {
           "colorbar": {
            "outlinewidth": 0,
            "ticks": ""
           }
          },
          "colorscale": {
           "diverging": [
            [
             0,
             "#8e0152"
            ],
            [
             0.1,
             "#c51b7d"
            ],
            [
             0.2,
             "#de77ae"
            ],
            [
             0.3,
             "#f1b6da"
            ],
            [
             0.4,
             "#fde0ef"
            ],
            [
             0.5,
             "#f7f7f7"
            ],
            [
             0.6,
             "#e6f5d0"
            ],
            [
             0.7,
             "#b8e186"
            ],
            [
             0.8,
             "#7fbc41"
            ],
            [
             0.9,
             "#4d9221"
            ],
            [
             1,
             "#276419"
            ]
           ],
           "sequential": [
            [
             0,
             "#0d0887"
            ],
            [
             0.1111111111111111,
             "#46039f"
            ],
            [
             0.2222222222222222,
             "#7201a8"
            ],
            [
             0.3333333333333333,
             "#9c179e"
            ],
            [
             0.4444444444444444,
             "#bd3786"
            ],
            [
             0.5555555555555556,
             "#d8576b"
            ],
            [
             0.6666666666666666,
             "#ed7953"
            ],
            [
             0.7777777777777778,
             "#fb9f3a"
            ],
            [
             0.8888888888888888,
             "#fdca26"
            ],
            [
             1,
             "#f0f921"
            ]
           ],
           "sequentialminus": [
            [
             0,
             "#0d0887"
            ],
            [
             0.1111111111111111,
             "#46039f"
            ],
            [
             0.2222222222222222,
             "#7201a8"
            ],
            [
             0.3333333333333333,
             "#9c179e"
            ],
            [
             0.4444444444444444,
             "#bd3786"
            ],
            [
             0.5555555555555556,
             "#d8576b"
            ],
            [
             0.6666666666666666,
             "#ed7953"
            ],
            [
             0.7777777777777778,
             "#fb9f3a"
            ],
            [
             0.8888888888888888,
             "#fdca26"
            ],
            [
             1,
             "#f0f921"
            ]
           ]
          },
          "colorway": [
           "#636efa",
           "#EF553B",
           "#00cc96",
           "#ab63fa",
           "#FFA15A",
           "#19d3f3",
           "#FF6692",
           "#B6E880",
           "#FF97FF",
           "#FECB52"
          ],
          "font": {
           "color": "#2a3f5f"
          },
          "geo": {
           "bgcolor": "white",
           "lakecolor": "white",
           "landcolor": "#E5ECF6",
           "showlakes": true,
           "showland": true,
           "subunitcolor": "white"
          },
          "hoverlabel": {
           "align": "left"
          },
          "hovermode": "closest",
          "mapbox": {
           "style": "light"
          },
          "paper_bgcolor": "white",
          "plot_bgcolor": "#E5ECF6",
          "polar": {
           "angularaxis": {
            "gridcolor": "white",
            "linecolor": "white",
            "ticks": ""
           },
           "bgcolor": "#E5ECF6",
           "radialaxis": {
            "gridcolor": "white",
            "linecolor": "white",
            "ticks": ""
           }
          },
          "scene": {
           "xaxis": {
            "backgroundcolor": "#E5ECF6",
            "gridcolor": "white",
            "gridwidth": 2,
            "linecolor": "white",
            "showbackground": true,
            "ticks": "",
            "zerolinecolor": "white"
           },
           "yaxis": {
            "backgroundcolor": "#E5ECF6",
            "gridcolor": "white",
            "gridwidth": 2,
            "linecolor": "white",
            "showbackground": true,
            "ticks": "",
            "zerolinecolor": "white"
           },
           "zaxis": {
            "backgroundcolor": "#E5ECF6",
            "gridcolor": "white",
            "gridwidth": 2,
            "linecolor": "white",
            "showbackground": true,
            "ticks": "",
            "zerolinecolor": "white"
           }
          },
          "shapedefaults": {
           "line": {
            "color": "#2a3f5f"
           }
          },
          "ternary": {
           "aaxis": {
            "gridcolor": "white",
            "linecolor": "white",
            "ticks": ""
           },
           "baxis": {
            "gridcolor": "white",
            "linecolor": "white",
            "ticks": ""
           },
           "bgcolor": "#E5ECF6",
           "caxis": {
            "gridcolor": "white",
            "linecolor": "white",
            "ticks": ""
           }
          },
          "title": {
           "x": 0.05
          },
          "xaxis": {
           "automargin": true,
           "gridcolor": "white",
           "linecolor": "white",
           "ticks": "",
           "title": {
            "standoff": 15
           },
           "zerolinecolor": "white",
           "zerolinewidth": 2
          },
          "yaxis": {
           "automargin": true,
           "gridcolor": "white",
           "linecolor": "white",
           "ticks": "",
           "title": {
            "standoff": 15
           },
           "zerolinecolor": "white",
           "zerolinewidth": 2
          }
         }
        },
        "title": {
         "text": "Evolution of Economic Indicators in Morocco"
        },
        "xaxis": {
         "title": {
          "text": "Years"
         }
        },
        "yaxis": {
         "title": {
          "text": "Value (%)"
         }
        }
       }
      }
     },
     "metadata": {},
     "output_type": "display_data"
    }
   ],
   "source": [
    "\n",
    "years = year\n",
    "\n",
    "# Create traces\n",
    "\n",
    "trace1 = go.Scatter(x=years, y=x_data, mode='lines+markers', name='Economic Growth (%)')\n",
    "\n",
    "trace2 = go.Scatter(x=years, y=y_data, mode='lines+markers', name='Inflation (%)')\n",
    "\n",
    "trace3 = go.Scatter(x=years, y=z_data, mode='lines+markers', name='Unemployment rate (%)')\n",
    "\n",
    "data = [trace1, trace2, trace3]\n",
    "\n",
    "layout = go.Layout(\n",
    "\n",
    "    title='Evolution of Economic Indicators in Morocco',\n",
    "\n",
    "    xaxis=dict(title='Years'),\n",
    "\n",
    "    yaxis=dict(title='Value (%)'),\n",
    "\n",
    "    hovermode='x unified'  # Show all values when hovering\n",
    "\n",
    ")\n",
    "\n",
    "fig1 = go.Figure(data=data, layout=layout)\n",
    "\n",
    "fig1.show()\n",
    " "
   ]
  },
  {
   "cell_type": "markdown",
   "id": "dc83669b",
   "metadata": {},
   "source": [
    "## Analysis of Results\n",
    "\n",
    "Analysis of data over the past ten years reveals a structural anomaly in the Moroccan economy:\n",
    "\n",
    "Economic growth has not led to a significant reduction in the unemployment rate, suggesting the existence of \"jobless growth.\"\n",
    "\n",
    "Furthermore, inflation appears to be maintained at stable levels, likely thanks to restrictive monetary policies implemented by Bank Al-Maghrib, regardless of fluctuations in growth.\n",
    "\n",
    "This phenomenon underscores the importance of rethinking the structure of the economy to foster inclusive growth capable of reducing unemployment and improving social well-being.\n"
   ]
  },
  {
   "cell_type": "code",
   "execution_count": 6,
   "id": "469afc84",
   "metadata": {},
   "outputs": [
    {
     "name": "stdout",
     "output_type": "stream",
     "text": [
      "\n",
      "--- Analyse year 2015 ---\n",
      "Growth gap : 1.7000000000000002\n",
      "Unemployment gap   : 3.1999999999999993\n",
      "inflation gap : -0.5\n",
      "Risk of economic overheating.\n",
      "We need to create more jobs (e.g. industrial policy, training)\n",
      "Low inflation: risk of deflation.\n",
      "\n",
      "--- Analyse year 2016 ---\n",
      "Growth gap : -3.1\n",
      "Unemployment gap   : 3.0\n",
      "inflation gap : -1.0\n",
      "We need to stimulate economic growth (e.g. investment, exports)\n",
      "We need to create more jobs (e.g. industrial policy, training)\n",
      "Low inflation: risk of deflation.\n",
      "\n",
      "--- Analyse year 2017 ---\n",
      "Growth gap : 0.5\n",
      "Unemployment gap   : 4.6\n",
      "inflation gap : -0.7\n",
      "Risk of economic overheating.\n",
      "We need to create more jobs (e.g. industrial policy, training)\n",
      "Low inflation: risk of deflation.\n",
      "\n",
      "--- Analyse year 2018 ---\n",
      "Growth gap : -0.8999999999999999\n",
      "Unemployment gap   : 3.4000000000000004\n",
      "inflation gap : -0.30000000000000004\n",
      "We need to stimulate economic growth (e.g. investment, exports)\n",
      "We need to create more jobs (e.g. industrial policy, training)\n",
      "Low inflation: risk of deflation.\n",
      "\n",
      "--- Analyse year 2019 ---\n",
      "Growth gap : -1.9\n",
      "Unemployment gap   : 4.199999999999999\n",
      "inflation gap : -2.2\n",
      "We need to stimulate economic growth (e.g. investment, exports)\n",
      "We need to create more jobs (e.g. industrial policy, training)\n",
      "Low inflation: risk of deflation.\n",
      "\n",
      "--- Analyse year 2020 ---\n",
      "Growth gap : -9.4\n",
      "Unemployment gap   : 6.199999999999999\n",
      "inflation gap : -0.6000000000000001\n",
      "We need to stimulate economic growth (e.g. investment, exports)\n",
      "We need to create more jobs (e.g. industrial policy, training)\n",
      "Low inflation: risk of deflation.\n",
      "\n",
      "--- Analyse year 2021 ---\n",
      "Growth gap : 3.9000000000000004\n",
      "Unemployment gap   : 5.9\n",
      "inflation gap : -1.9\n",
      "Risk of economic overheating.\n",
      "We need to create more jobs (e.g. industrial policy, training)\n",
      "Low inflation: risk of deflation.\n",
      "\n",
      "--- Analyse year 2022 ---\n",
      "Growth gap : -3.0\n",
      "Unemployment gap   : 6.9\n",
      "inflation gap : 2.0\n",
      "We need to stimulate economic growth (e.g. investment, exports)\n",
      "We need to create more jobs (e.g. industrial policy, training)\n",
      "Risk of high inflation. (e.g.: increase the key rate)\n",
      "\n",
      "--- Analyse year 2023 ---\n",
      "Growth gap : 0.20000000000000018\n",
      "Unemployment gap   : 7.300000000000001\n",
      "inflation gap : 7.1\n",
      "Risk of economic overheating.\n",
      "We need to create more jobs (e.g. industrial policy, training)\n",
      "Risk of high inflation. (e.g.: increase the key rate)\n",
      "\n",
      "--- Analyse year 2024 ---\n",
      "Growth gap : -0.2999999999999998\n",
      "Unemployment gap   : 6.9\n",
      "inflation gap : -0.8\n",
      "We need to stimulate economic growth (e.g. investment, exports)\n",
      "We need to create more jobs (e.g. industrial policy, training)\n",
      "Low inflation: risk of deflation.\n"
     ]
    }
   ],
   "source": [
    "def verifier_equilibre(x_data, y_data, z_data,year):\n",
    "\n",
    "    growth_target = 4.0\n",
    "\n",
    "    unemployment_target = 6.0\n",
    "\n",
    "    inflation_target= 2.0\n",
    "\n",
    "    for i in range(len(x_data)):\n",
    "    \n",
    "     \n",
    "        print(f\"\\n--- Analyse year {year[i]} ---\")\n",
    "\n",
    "        print(\"Growth gap :\", x_data[i] - growth_target)\n",
    "\n",
    "        print(\"Unemployment gap   :\", z_data[i] - unemployment_target)\n",
    "\n",
    "        print(\"inflation gap :\",y_data[i] - inflation_target)\n",
    "\n",
    "        # Croissance\n",
    "\n",
    "        if x_data[i] < growth_target:\n",
    "\n",
    "            print(\"We need to stimulate economic growth (e.g. investment, exports)\")\n",
    "\n",
    "        elif x_data[i] > growth_target:\n",
    "\n",
    "            print(\"Risk of economic overheating.\")\n",
    "\n",
    "        else:\n",
    "\n",
    "            print(\"Croissance économique équilibrée.\")\n",
    "\n",
    "        # Chômage\n",
    "\n",
    "        if z_data[i] > unemployment_target:\n",
    "\n",
    "            print(\"We need to create more jobs (e.g. industrial policy, training)\")\n",
    "\n",
    "        elif z_data[i] < unemployment_target:\n",
    "\n",
    "            print(\"Low unemployment: risk of tension on the labor market.\")\n",
    "\n",
    "        else:\n",
    "\n",
    "            print(\"Balanced unemployment rate.\")\n",
    "\n",
    "        # Inflation\n",
    "\n",
    "        if y_data[i] > inflation_target:\n",
    "\n",
    "            print(\"Risk of high inflation. (e.g.: increase the key rate)\")\n",
    "\n",
    "        elif y_data[i] < inflation_target:\n",
    "\n",
    "            print(\"Low inflation: risk of deflation.\")\n",
    "\n",
    "        else:\n",
    "\n",
    "            print(\"Stale inflation\")\n",
    "verifier_equilibre(x_data,y_data,z_data,year)"
   ]
  },
  {
   "cell_type": "markdown",
   "id": "685d137c",
   "metadata": {},
   "source": [
    "# Simple explication `verifier_equilibre`\n",
    "\n",
    "Stable inflation. This code analyzes the gaps between actual and target values ​​for three economic indicators each year:\n",
    "\n",
    "- **Economic growth**\n",
    "- **Unemployment rate**\n",
    "- **Inflation**\n",
    "---\n",
    "\n",
    "## What does this code do?\n",
    "\n",
    "For each year, it displays:\n",
    "\n",
    "- The gap between each indicator and its target value\n",
    "- An advice or alert depending on the economic situation:\n",
    "\n",
    "- **Growth**\n",
    "- If too low → *stimulate growth*\n",
    "- If too high → *risk of economic overheating*\n",
    "\n",
    "- **Unemployment**\n",
    "- If too high → *create more jobs*\n",
    "- If too low → *risk of labor market tension*\n",
    "\n",
    "- **Inflation**\n",
    "- If too high → *increase interest rates*\n",
    "- If too low → *risk of deflation*\n",
    "\n",
    "-"
   ]
  },
  {
   "cell_type": "code",
   "execution_count": 7,
   "id": "f2651794",
   "metadata": {},
   "outputs": [],
   "source": [
    "def equilibrer_dynamique(Growth, Unmployment, inflation, prev_unemployment, prev_inflation, prev_Growth):\n",
    "\n",
    "\n",
    "\n",
    "    Growth += 0.2 * (prev_unemployment - Unmployment)  \n",
    "\n",
    "    inflation += 0.1 * (prev_inflation - inflation)\n",
    "\n",
    "    Unmployment -= 0.1 * (prev_Growth - Growth)  \n",
    "\n",
    "\n",
    "    if Unmployment > 8.0 :\n",
    "        if Growth >3.5:\n",
    "\n",
    "            policy = \"Investement and encouraging youth employment\"\n",
    "\n",
    "            Growth += 0.4\n",
    "\n",
    "            Unmployment -= 0.7\n",
    "\n",
    "        else: \n",
    "\n",
    "            policy = \"Massive public investment to boost growth\"\n",
    "\n",
    "            Growth += 0.9\n",
    "\n",
    "            Unmployment -= 0.7\n",
    "\n",
    "    elif inflation < 1.5:\n",
    "\n",
    "        policy = \"Lower the key rate to stimulate consumption\"\n",
    "\n",
    "        Growth += 0.25\n",
    "\n",
    "        inflation += 0.35\n",
    "\n",
    "    elif inflation > 3.5:\n",
    "\n",
    "        policy = \"Increase the key rate to control inflation\"\n",
    "\n",
    "        Growth -= 0.3\n",
    "\n",
    "        inflation -= 0.4\n",
    "\n",
    "    else:\n",
    "\n",
    "        policy = \"Stable situation - Maintain current policy\"\n",
    "\n",
    "    return Growth, Unmployment, inflation, policy\n",
    " "
   ]
  },
  {
   "cell_type": "code",
   "execution_count": 8,
   "id": "58486fdc",
   "metadata": {},
   "outputs": [
    {
     "name": "stdout",
     "output_type": "stream",
     "text": [
      "Year 2015; Growth: 6.10%, Unemployement: 8.50%, Inflation: 1.50% — Investement and encouraging youth employment\n",
      "Year 2016; Growth: 1.70%, Unemployement: 7.77%, Inflation: 1.05% — Massive public investment to boost growth\n",
      "Year 2017; Growth: 4.33%, Unemployement: 10.12%, Inflation: 1.28% — Investement and encouraging youth employment\n",
      "Year 2018; Growth: 4.14%, Unemployement: 8.59%, Inflation: 1.66% — Massive public investment to boost growth\n",
      "Year 2019; Growth: 2.68%, Unemployement: 9.26%, Inflation: -0.01% — Massive public investment to boost growth\n",
      "Year 2020; Growth: -5.09%, Unemployement: 10.63%, Inflation: 1.26% — Massive public investment to boost growth\n",
      "Year 2021; Growth: 8.05%, Unemployement: 12.47%, Inflation: 0.22% — Investement and encouraging youth employment\n",
      "Year 2022; Growth: 1.81%, Unemployement: 11.49%, Inflation: 3.62% — Massive public investment to boost growth\n",
      "Year 2023; Growth: 4.24%, Unemployement: 12.80%, Inflation: 8.55% — Investement and encouraging youth employment\n",
      "Year 2024; Growth: 4.08%, Unemployement: 12.14%, Inflation: 1.94% — Investement and encouraging youth employment\n"
     ]
    }
   ],
   "source": [
    "\n",
    "\n",
    "prev_inflation = y_data[0]\n",
    "\n",
    "prev_Growth = x_data[0]\n",
    "\n",
    "prev_unemployment = z_data[0]\n",
    "\n",
    "Growth_list = []\n",
    "\n",
    "Unemployement_list = []\n",
    "\n",
    "inflation_list = []\n",
    "\n",
    "years = []\n",
    "\n",
    "for i in range(len(x_data)):\n",
    "\n",
    "    Growth = x_data[i]\n",
    "\n",
    "    Unemployement = z_data[i]\n",
    "\n",
    "    inflation = y_data[i]\n",
    "\n",
    "    Growth_eq, Unemployement_eq, inflation_eq, policy = equilibrer_dynamique(\n",
    "\n",
    "        Growth, Unemployement, inflation, prev_unemployment, prev_inflation, prev_Growth)\n",
    "\n",
    "    print(f\"Year {year[i]}; Growth: {Growth_eq:.2f}%, Unemployement: {Unemployement_eq:.2f}%, Inflation: {inflation_eq:.2f}% — {policy}\")\n",
    "\n",
    "    prev_unemployment = Unemployement_eq\n",
    "\n",
    "    prev_inflation = inflation_eq\n",
    "\n",
    "    prev_Growth = Growth_eq\n",
    "\n",
    "    years =np.arange(2015, 2015 + len(x_data))\n",
    "\n",
    "    Growth_list.append(Growth_eq)\n",
    "\n",
    "    Unemployement_list.append(Unemployement_eq)\n",
    "\n",
    "    inflation_list.append(inflation_eq)\n",
    " "
   ]
  },
  {
   "cell_type": "code",
   "execution_count": 9,
   "id": "236967e3",
   "metadata": {},
   "outputs": [
    {
     "data": {
      "application/vnd.plotly.v1+json": {
       "config": {
        "plotlyServerURL": "https://plot.ly"
       },
       "data": [
        {
         "marker": {
          "symbol": "circle"
         },
         "mode": "lines+markers",
         "name": "Balanced Growth(%)",
         "type": "scatter",
         "x": [
          2015,
          2016,
          2017,
          2018,
          2019,
          2020,
          2021,
          2022,
          2023,
          2024
         ],
         "y": [
          6.1000000000000005,
          1.7000000000000002,
          4.3340000000000005,
          4.14468,
          2.6782136000000007,
          -5.087329328,
          8.04668914144,
          1.8146803693888,
          4.237359824558976,
          4.080453589103405
         ]
        },
        {
         "marker": {
          "symbol": "square"
         },
         "mode": "lines+markers",
         "name": "Balanced Unemployment(%)",
         "type": "scatter",
         "x": [
          2015,
          2016,
          2017,
          2018,
          2019,
          2020,
          2021,
          2022,
          2023,
          2024
         ],
         "y": [
          8.5,
          7.7700000000000005,
          10.1234,
          8.591068000000002,
          9.26335336,
          10.6334457072,
          12.473401846944,
          11.486799122794881,
          12.80226794551702,
          12.144309376454444
         ]
        },
        {
         "marker": {
          "symbol": "triangle-up"
         },
         "mode": "lines+markers",
         "name": "Balanced Inflation(%)",
         "type": "scatter",
         "x": [
          2015,
          2016,
          2017,
          2018,
          2019,
          2020,
          2021,
          2022,
          2023,
          2024
         ],
         "y": [
          1.5,
          1.05,
          1.2750000000000001,
          1.6575,
          -0.014250000000000013,
          1.258575,
          0.2158575,
          3.62158575,
          8.552158575,
          1.9352158575
         ]
        }
       ],
       "layout": {
        "height": 550,
        "hovermode": "x unified",
        "legend": {
         "title": {
          "text": "Indicateurs:"
         }
        },
        "template": {
         "data": {
          "bar": [
           {
            "error_x": {
             "color": "#2a3f5f"
            },
            "error_y": {
             "color": "#2a3f5f"
            },
            "marker": {
             "line": {
              "color": "white",
              "width": 0.5
             },
             "pattern": {
              "fillmode": "overlay",
              "size": 10,
              "solidity": 0.2
             }
            },
            "type": "bar"
           }
          ],
          "barpolar": [
           {
            "marker": {
             "line": {
              "color": "white",
              "width": 0.5
             },
             "pattern": {
              "fillmode": "overlay",
              "size": 10,
              "solidity": 0.2
             }
            },
            "type": "barpolar"
           }
          ],
          "carpet": [
           {
            "aaxis": {
             "endlinecolor": "#2a3f5f",
             "gridcolor": "#C8D4E3",
             "linecolor": "#C8D4E3",
             "minorgridcolor": "#C8D4E3",
             "startlinecolor": "#2a3f5f"
            },
            "baxis": {
             "endlinecolor": "#2a3f5f",
             "gridcolor": "#C8D4E3",
             "linecolor": "#C8D4E3",
             "minorgridcolor": "#C8D4E3",
             "startlinecolor": "#2a3f5f"
            },
            "type": "carpet"
           }
          ],
          "choropleth": [
           {
            "colorbar": {
             "outlinewidth": 0,
             "ticks": ""
            },
            "type": "choropleth"
           }
          ],
          "contour": [
           {
            "colorbar": {
             "outlinewidth": 0,
             "ticks": ""
            },
            "colorscale": [
             [
              0,
              "#0d0887"
             ],
             [
              0.1111111111111111,
              "#46039f"
             ],
             [
              0.2222222222222222,
              "#7201a8"
             ],
             [
              0.3333333333333333,
              "#9c179e"
             ],
             [
              0.4444444444444444,
              "#bd3786"
             ],
             [
              0.5555555555555556,
              "#d8576b"
             ],
             [
              0.6666666666666666,
              "#ed7953"
             ],
             [
              0.7777777777777778,
              "#fb9f3a"
             ],
             [
              0.8888888888888888,
              "#fdca26"
             ],
             [
              1,
              "#f0f921"
             ]
            ],
            "type": "contour"
           }
          ],
          "contourcarpet": [
           {
            "colorbar": {
             "outlinewidth": 0,
             "ticks": ""
            },
            "type": "contourcarpet"
           }
          ],
          "heatmap": [
           {
            "colorbar": {
             "outlinewidth": 0,
             "ticks": ""
            },
            "colorscale": [
             [
              0,
              "#0d0887"
             ],
             [
              0.1111111111111111,
              "#46039f"
             ],
             [
              0.2222222222222222,
              "#7201a8"
             ],
             [
              0.3333333333333333,
              "#9c179e"
             ],
             [
              0.4444444444444444,
              "#bd3786"
             ],
             [
              0.5555555555555556,
              "#d8576b"
             ],
             [
              0.6666666666666666,
              "#ed7953"
             ],
             [
              0.7777777777777778,
              "#fb9f3a"
             ],
             [
              0.8888888888888888,
              "#fdca26"
             ],
             [
              1,
              "#f0f921"
             ]
            ],
            "type": "heatmap"
           }
          ],
          "heatmapgl": [
           {
            "colorbar": {
             "outlinewidth": 0,
             "ticks": ""
            },
            "colorscale": [
             [
              0,
              "#0d0887"
             ],
             [
              0.1111111111111111,
              "#46039f"
             ],
             [
              0.2222222222222222,
              "#7201a8"
             ],
             [
              0.3333333333333333,
              "#9c179e"
             ],
             [
              0.4444444444444444,
              "#bd3786"
             ],
             [
              0.5555555555555556,
              "#d8576b"
             ],
             [
              0.6666666666666666,
              "#ed7953"
             ],
             [
              0.7777777777777778,
              "#fb9f3a"
             ],
             [
              0.8888888888888888,
              "#fdca26"
             ],
             [
              1,
              "#f0f921"
             ]
            ],
            "type": "heatmapgl"
           }
          ],
          "histogram": [
           {
            "marker": {
             "pattern": {
              "fillmode": "overlay",
              "size": 10,
              "solidity": 0.2
             }
            },
            "type": "histogram"
           }
          ],
          "histogram2d": [
           {
            "colorbar": {
             "outlinewidth": 0,
             "ticks": ""
            },
            "colorscale": [
             [
              0,
              "#0d0887"
             ],
             [
              0.1111111111111111,
              "#46039f"
             ],
             [
              0.2222222222222222,
              "#7201a8"
             ],
             [
              0.3333333333333333,
              "#9c179e"
             ],
             [
              0.4444444444444444,
              "#bd3786"
             ],
             [
              0.5555555555555556,
              "#d8576b"
             ],
             [
              0.6666666666666666,
              "#ed7953"
             ],
             [
              0.7777777777777778,
              "#fb9f3a"
             ],
             [
              0.8888888888888888,
              "#fdca26"
             ],
             [
              1,
              "#f0f921"
             ]
            ],
            "type": "histogram2d"
           }
          ],
          "histogram2dcontour": [
           {
            "colorbar": {
             "outlinewidth": 0,
             "ticks": ""
            },
            "colorscale": [
             [
              0,
              "#0d0887"
             ],
             [
              0.1111111111111111,
              "#46039f"
             ],
             [
              0.2222222222222222,
              "#7201a8"
             ],
             [
              0.3333333333333333,
              "#9c179e"
             ],
             [
              0.4444444444444444,
              "#bd3786"
             ],
             [
              0.5555555555555556,
              "#d8576b"
             ],
             [
              0.6666666666666666,
              "#ed7953"
             ],
             [
              0.7777777777777778,
              "#fb9f3a"
             ],
             [
              0.8888888888888888,
              "#fdca26"
             ],
             [
              1,
              "#f0f921"
             ]
            ],
            "type": "histogram2dcontour"
           }
          ],
          "mesh3d": [
           {
            "colorbar": {
             "outlinewidth": 0,
             "ticks": ""
            },
            "type": "mesh3d"
           }
          ],
          "parcoords": [
           {
            "line": {
             "colorbar": {
              "outlinewidth": 0,
              "ticks": ""
             }
            },
            "type": "parcoords"
           }
          ],
          "pie": [
           {
            "automargin": true,
            "type": "pie"
           }
          ],
          "scatter": [
           {
            "fillpattern": {
             "fillmode": "overlay",
             "size": 10,
             "solidity": 0.2
            },
            "type": "scatter"
           }
          ],
          "scatter3d": [
           {
            "line": {
             "colorbar": {
              "outlinewidth": 0,
              "ticks": ""
             }
            },
            "marker": {
             "colorbar": {
              "outlinewidth": 0,
              "ticks": ""
             }
            },
            "type": "scatter3d"
           }
          ],
          "scattercarpet": [
           {
            "marker": {
             "colorbar": {
              "outlinewidth": 0,
              "ticks": ""
             }
            },
            "type": "scattercarpet"
           }
          ],
          "scattergeo": [
           {
            "marker": {
             "colorbar": {
              "outlinewidth": 0,
              "ticks": ""
             }
            },
            "type": "scattergeo"
           }
          ],
          "scattergl": [
           {
            "marker": {
             "colorbar": {
              "outlinewidth": 0,
              "ticks": ""
             }
            },
            "type": "scattergl"
           }
          ],
          "scattermapbox": [
           {
            "marker": {
             "colorbar": {
              "outlinewidth": 0,
              "ticks": ""
             }
            },
            "type": "scattermapbox"
           }
          ],
          "scatterpolar": [
           {
            "marker": {
             "colorbar": {
              "outlinewidth": 0,
              "ticks": ""
             }
            },
            "type": "scatterpolar"
           }
          ],
          "scatterpolargl": [
           {
            "marker": {
             "colorbar": {
              "outlinewidth": 0,
              "ticks": ""
             }
            },
            "type": "scatterpolargl"
           }
          ],
          "scatterternary": [
           {
            "marker": {
             "colorbar": {
              "outlinewidth": 0,
              "ticks": ""
             }
            },
            "type": "scatterternary"
           }
          ],
          "surface": [
           {
            "colorbar": {
             "outlinewidth": 0,
             "ticks": ""
            },
            "colorscale": [
             [
              0,
              "#0d0887"
             ],
             [
              0.1111111111111111,
              "#46039f"
             ],
             [
              0.2222222222222222,
              "#7201a8"
             ],
             [
              0.3333333333333333,
              "#9c179e"
             ],
             [
              0.4444444444444444,
              "#bd3786"
             ],
             [
              0.5555555555555556,
              "#d8576b"
             ],
             [
              0.6666666666666666,
              "#ed7953"
             ],
             [
              0.7777777777777778,
              "#fb9f3a"
             ],
             [
              0.8888888888888888,
              "#fdca26"
             ],
             [
              1,
              "#f0f921"
             ]
            ],
            "type": "surface"
           }
          ],
          "table": [
           {
            "cells": {
             "fill": {
              "color": "#EBF0F8"
             },
             "line": {
              "color": "white"
             }
            },
            "header": {
             "fill": {
              "color": "#C8D4E3"
             },
             "line": {
              "color": "white"
             }
            },
            "type": "table"
           }
          ]
         },
         "layout": {
          "annotationdefaults": {
           "arrowcolor": "#2a3f5f",
           "arrowhead": 0,
           "arrowwidth": 1
          },
          "autotypenumbers": "strict",
          "coloraxis": {
           "colorbar": {
            "outlinewidth": 0,
            "ticks": ""
           }
          },
          "colorscale": {
           "diverging": [
            [
             0,
             "#8e0152"
            ],
            [
             0.1,
             "#c51b7d"
            ],
            [
             0.2,
             "#de77ae"
            ],
            [
             0.3,
             "#f1b6da"
            ],
            [
             0.4,
             "#fde0ef"
            ],
            [
             0.5,
             "#f7f7f7"
            ],
            [
             0.6,
             "#e6f5d0"
            ],
            [
             0.7,
             "#b8e186"
            ],
            [
             0.8,
             "#7fbc41"
            ],
            [
             0.9,
             "#4d9221"
            ],
            [
             1,
             "#276419"
            ]
           ],
           "sequential": [
            [
             0,
             "#0d0887"
            ],
            [
             0.1111111111111111,
             "#46039f"
            ],
            [
             0.2222222222222222,
             "#7201a8"
            ],
            [
             0.3333333333333333,
             "#9c179e"
            ],
            [
             0.4444444444444444,
             "#bd3786"
            ],
            [
             0.5555555555555556,
             "#d8576b"
            ],
            [
             0.6666666666666666,
             "#ed7953"
            ],
            [
             0.7777777777777778,
             "#fb9f3a"
            ],
            [
             0.8888888888888888,
             "#fdca26"
            ],
            [
             1,
             "#f0f921"
            ]
           ],
           "sequentialminus": [
            [
             0,
             "#0d0887"
            ],
            [
             0.1111111111111111,
             "#46039f"
            ],
            [
             0.2222222222222222,
             "#7201a8"
            ],
            [
             0.3333333333333333,
             "#9c179e"
            ],
            [
             0.4444444444444444,
             "#bd3786"
            ],
            [
             0.5555555555555556,
             "#d8576b"
            ],
            [
             0.6666666666666666,
             "#ed7953"
            ],
            [
             0.7777777777777778,
             "#fb9f3a"
            ],
            [
             0.8888888888888888,
             "#fdca26"
            ],
            [
             1,
             "#f0f921"
            ]
           ]
          },
          "colorway": [
           "#636efa",
           "#EF553B",
           "#00cc96",
           "#ab63fa",
           "#FFA15A",
           "#19d3f3",
           "#FF6692",
           "#B6E880",
           "#FF97FF",
           "#FECB52"
          ],
          "font": {
           "color": "#2a3f5f"
          },
          "geo": {
           "bgcolor": "white",
           "lakecolor": "white",
           "landcolor": "white",
           "showlakes": true,
           "showland": true,
           "subunitcolor": "#C8D4E3"
          },
          "hoverlabel": {
           "align": "left"
          },
          "hovermode": "closest",
          "mapbox": {
           "style": "light"
          },
          "paper_bgcolor": "white",
          "plot_bgcolor": "white",
          "polar": {
           "angularaxis": {
            "gridcolor": "#EBF0F8",
            "linecolor": "#EBF0F8",
            "ticks": ""
           },
           "bgcolor": "white",
           "radialaxis": {
            "gridcolor": "#EBF0F8",
            "linecolor": "#EBF0F8",
            "ticks": ""
           }
          },
          "scene": {
           "xaxis": {
            "backgroundcolor": "white",
            "gridcolor": "#DFE8F3",
            "gridwidth": 2,
            "linecolor": "#EBF0F8",
            "showbackground": true,
            "ticks": "",
            "zerolinecolor": "#EBF0F8"
           },
           "yaxis": {
            "backgroundcolor": "white",
            "gridcolor": "#DFE8F3",
            "gridwidth": 2,
            "linecolor": "#EBF0F8",
            "showbackground": true,
            "ticks": "",
            "zerolinecolor": "#EBF0F8"
           },
           "zaxis": {
            "backgroundcolor": "white",
            "gridcolor": "#DFE8F3",
            "gridwidth": 2,
            "linecolor": "#EBF0F8",
            "showbackground": true,
            "ticks": "",
            "zerolinecolor": "#EBF0F8"
           }
          },
          "shapedefaults": {
           "line": {
            "color": "#2a3f5f"
           }
          },
          "ternary": {
           "aaxis": {
            "gridcolor": "#DFE8F3",
            "linecolor": "#A2B1C6",
            "ticks": ""
           },
           "baxis": {
            "gridcolor": "#DFE8F3",
            "linecolor": "#A2B1C6",
            "ticks": ""
           },
           "bgcolor": "white",
           "caxis": {
            "gridcolor": "#DFE8F3",
            "linecolor": "#A2B1C6",
            "ticks": ""
           }
          },
          "title": {
           "x": 0.05
          },
          "xaxis": {
           "automargin": true,
           "gridcolor": "#EBF0F8",
           "linecolor": "#EBF0F8",
           "ticks": "",
           "title": {
            "standoff": 15
           },
           "zerolinecolor": "#EBF0F8",
           "zerolinewidth": 2
          },
          "yaxis": {
           "automargin": true,
           "gridcolor": "#EBF0F8",
           "linecolor": "#EBF0F8",
           "ticks": "",
           "title": {
            "standoff": 15
           },
           "zerolinecolor": "#EBF0F8",
           "zerolinewidth": 2
          }
         }
        },
        "title": {
         "text": "Evolution of Economic indicators after equilibre:"
        },
        "width": 900,
        "xaxis": {
         "showgrid": true,
         "title": {
          "text": "Years"
         }
        },
        "yaxis": {
         "showgrid": true,
         "title": {
          "text": "Value (%)"
         }
        }
       }
      }
     },
     "metadata": {},
     "output_type": "display_data"
    }
   ],
   "source": [
    "fig = go.Figure()\n",
    "\n",
    "fig.add_trace(go.Scatter(\n",
    "\n",
    "    x=years,\n",
    "\n",
    "    y=Growth_list,\n",
    "\n",
    "    mode='lines+markers',\n",
    "\n",
    "    name='Balanced Growth(%)',\n",
    "\n",
    "    marker=dict(symbol='circle')\n",
    "\n",
    "))\n",
    "\n",
    "fig.add_trace(go.Scatter(\n",
    "\n",
    "    x=years,\n",
    "\n",
    "    y=Unemployement_list,\n",
    "\n",
    "    mode='lines+markers',\n",
    "\n",
    "    name='Balanced Unemployment(%)',\n",
    "\n",
    "    marker=dict(symbol='square')\n",
    "\n",
    "))\n",
    "\n",
    "fig.add_trace(go.Scatter(\n",
    "\n",
    "    x=years,\n",
    "\n",
    "    y=inflation_list,\n",
    "\n",
    "    mode='lines+markers',\n",
    "\n",
    "    name='Balanced Inflation(%)',\n",
    "\n",
    "    marker=dict(symbol='triangle-up')\n",
    "\n",
    "))\n",
    "\n",
    "fig.update_layout(\n",
    "\n",
    "    title=\"Evolution of Economic indicators after equilibre:\",\n",
    "\n",
    "    xaxis_title=\"Years\",\n",
    "\n",
    "    yaxis_title=\"Value (%)\",\n",
    "\n",
    "    legend_title=\"Indicateurs:\",\n",
    "\n",
    "    template=\"plotly_white\",\n",
    "\n",
    "    width=900,\n",
    "\n",
    "    height=550,\n",
    "\n",
    "    hovermode='x unified',\n",
    "\n",
    "    xaxis=dict(showgrid=True),\n",
    "\n",
    "    yaxis=dict(showgrid=True)\n",
    "                                                                                                                                             \n",
    ")\n",
    "\n",
    "fig.show()\n",
    " "
   ]
  },
  {
   "cell_type": "code",
   "execution_count": 10,
   "id": "740d78eb",
   "metadata": {},
   "outputs": [],
   "source": [
    "fig1.write_html(\"figurebeforeM.html\")\n",
    "fig.write_html(\"figureafterM.html\")"
   ]
  }
 ],
 "metadata": {
  "kernelspec": {
   "display_name": "base",
   "language": "python",
   "name": "python3"
  },
  "language_info": {
   "codemirror_mode": {
    "name": "ipython",
    "version": 3
   },
   "file_extension": ".py",
   "mimetype": "text/x-python",
   "name": "python",
   "nbconvert_exporter": "python",
   "pygments_lexer": "ipython3",
   "version": "3.12.4"
  }
 },
 "nbformat": 4,
 "nbformat_minor": 5
}
