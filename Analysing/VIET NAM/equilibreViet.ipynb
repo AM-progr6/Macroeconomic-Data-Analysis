{
 "cells": [
  {
   "cell_type": "code",
   "execution_count": 10,
   "id": "ce1f3da1",
   "metadata": {},
   "outputs": [],
   "source": [
    "#!pip install numpy pandas matplotlib ipympl plotly\n"
   ]
  },
  {
   "cell_type": "code",
   "execution_count": 11,
   "id": "83ad9674",
   "metadata": {},
   "outputs": [],
   "source": [
    "import numpy as np\n",
    "import pandas as pd\n",
    "import matplotlib.pyplot as plt\n",
    "import plotly.graph_objs as go\n",
    "import math\n",
    "np.set_printoptions(suppress=True, precision=2)\n"
   ]
  },
  {
   "cell_type": "code",
   "execution_count": 12,
   "id": "94bd4613",
   "metadata": {},
   "outputs": [
    {
     "data": {
      "text/html": [
       "<div>\n",
       "<style scoped>\n",
       "    .dataframe tbody tr th:only-of-type {\n",
       "        vertical-align: middle;\n",
       "    }\n",
       "\n",
       "    .dataframe tbody tr th {\n",
       "        vertical-align: top;\n",
       "    }\n",
       "\n",
       "    .dataframe thead th {\n",
       "        text-align: right;\n",
       "    }\n",
       "</style>\n",
       "<table border=\"1\" class=\"dataframe\">\n",
       "  <thead>\n",
       "    <tr style=\"text-align: right;\">\n",
       "      <th></th>\n",
       "      <th>Anne</th>\n",
       "      <th>Taux de chomage</th>\n",
       "      <th>Taux d'inflation</th>\n",
       "      <th>Taux de croissance</th>\n",
       "    </tr>\n",
       "  </thead>\n",
       "  <tbody>\n",
       "    <tr>\n",
       "      <th>0</th>\n",
       "      <td>2015</td>\n",
       "      <td>1.8</td>\n",
       "      <td>0.6</td>\n",
       "      <td>7.0</td>\n",
       "    </tr>\n",
       "    <tr>\n",
       "      <th>1</th>\n",
       "      <td>2016</td>\n",
       "      <td>1.8</td>\n",
       "      <td>2.7</td>\n",
       "      <td>6.7</td>\n",
       "    </tr>\n",
       "    <tr>\n",
       "      <th>2</th>\n",
       "      <td>2017</td>\n",
       "      <td>1.9</td>\n",
       "      <td>3.5</td>\n",
       "      <td>6.9</td>\n",
       "    </tr>\n",
       "    <tr>\n",
       "      <th>3</th>\n",
       "      <td>2018</td>\n",
       "      <td>1.2</td>\n",
       "      <td>3.5</td>\n",
       "      <td>7.5</td>\n",
       "    </tr>\n",
       "    <tr>\n",
       "      <th>4</th>\n",
       "      <td>2019</td>\n",
       "      <td>1.7</td>\n",
       "      <td>2.8</td>\n",
       "      <td>7.4</td>\n",
       "    </tr>\n",
       "    <tr>\n",
       "      <th>5</th>\n",
       "      <td>2020</td>\n",
       "      <td>2.1</td>\n",
       "      <td>3.2</td>\n",
       "      <td>2.9</td>\n",
       "    </tr>\n",
       "    <tr>\n",
       "      <th>6</th>\n",
       "      <td>2021</td>\n",
       "      <td>2.4</td>\n",
       "      <td>1.8</td>\n",
       "      <td>2.6</td>\n",
       "    </tr>\n",
       "    <tr>\n",
       "      <th>7</th>\n",
       "      <td>2022</td>\n",
       "      <td>1.5</td>\n",
       "      <td>3.2</td>\n",
       "      <td>8.5</td>\n",
       "    </tr>\n",
       "    <tr>\n",
       "      <th>8</th>\n",
       "      <td>2023</td>\n",
       "      <td>1.6</td>\n",
       "      <td>3.3</td>\n",
       "      <td>5.1</td>\n",
       "    </tr>\n",
       "    <tr>\n",
       "      <th>9</th>\n",
       "      <td>2024</td>\n",
       "      <td>1.4</td>\n",
       "      <td>3.6</td>\n",
       "      <td>7.1</td>\n",
       "    </tr>\n",
       "  </tbody>\n",
       "</table>\n",
       "</div>"
      ],
      "text/plain": [
       "   Anne  Taux de chomage  Taux d'inflation   Taux de croissance\n",
       "0  2015              1.8                0.6                 7.0\n",
       "1  2016              1.8                2.7                 6.7\n",
       "2  2017              1.9                3.5                 6.9\n",
       "3  2018              1.2                3.5                 7.5\n",
       "4  2019              1.7                2.8                 7.4\n",
       "5  2020              2.1                3.2                 2.9\n",
       "6  2021              2.4                1.8                 2.6\n",
       "7  2022              1.5                3.2                 8.5\n",
       "8  2023              1.6                3.3                 5.1\n",
       "9  2024              1.4                3.6                 7.1"
      ]
     },
     "execution_count": 12,
     "metadata": {},
     "output_type": "execute_result"
    }
   ],
   "source": [
    "data=pd.read_csv(\"EcoViet.csv\",delimiter=\";\")\n",
    "data.head(10)\n"
   ]
  },
  {
   "cell_type": "code",
   "execution_count": 13,
   "id": "13c10f99",
   "metadata": {},
   "outputs": [],
   "source": [
    "v_train=np.array(data['Taux de chomage'])\n",
    "i_train=np.array(data['Taux d\\'inflation '])\n",
    "c_train=np.array(data['Taux de croissance'])\n",
    "year=np.array(data['Anne'])\n"
   ]
  },
  {
   "cell_type": "code",
   "execution_count": 14,
   "id": "b5f4be8e",
   "metadata": {},
   "outputs": [
    {
     "data": {
      "application/vnd.plotly.v1+json": {
       "config": {
        "plotlyServerURL": "https://plot.ly"
       },
       "data": [
        {
         "mode": "lines+markers",
         "name": "Growth Economique (%)",
         "type": "scatter",
         "x": [
          2015,
          2016,
          2017,
          2018,
          2019,
          2020,
          2021,
          2022,
          2023,
          2024
         ],
         "y": [
          7,
          6.7,
          6.9,
          7.5,
          7.4,
          2.9,
          2.6,
          8.5,
          5.1,
          7.1
         ]
        },
        {
         "mode": "lines+markers",
         "name": "Inflation (%)",
         "type": "scatter",
         "x": [
          2015,
          2016,
          2017,
          2018,
          2019,
          2020,
          2021,
          2022,
          2023,
          2024
         ],
         "y": [
          0.6,
          2.7,
          3.5,
          3.5,
          2.8,
          3.2,
          1.8,
          3.2,
          3.3,
          3.6
         ]
        },
        {
         "mode": "lines+markers",
         "name": "Unemployment rate (%)",
         "type": "scatter",
         "x": [
          2015,
          2016,
          2017,
          2018,
          2019,
          2020,
          2021,
          2022,
          2023,
          2024
         ],
         "y": [
          1.8,
          1.8,
          1.9,
          1.2,
          1.7,
          2.1,
          2.4,
          1.5,
          1.6,
          1.4
         ]
        }
       ],
       "layout": {
        "hovermode": "x unified",
        "template": {
         "data": {
          "bar": [
           {
            "error_x": {
             "color": "#2a3f5f"
            },
            "error_y": {
             "color": "#2a3f5f"
            },
            "marker": {
             "line": {
              "color": "#E5ECF6",
              "width": 0.5
             },
             "pattern": {
              "fillmode": "overlay",
              "size": 10,
              "solidity": 0.2
             }
            },
            "type": "bar"
           }
          ],
          "barpolar": [
           {
            "marker": {
             "line": {
              "color": "#E5ECF6",
              "width": 0.5
             },
             "pattern": {
              "fillmode": "overlay",
              "size": 10,
              "solidity": 0.2
             }
            },
            "type": "barpolar"
           }
          ],
          "carpet": [
           {
            "aaxis": {
             "endlinecolor": "#2a3f5f",
             "gridcolor": "white",
             "linecolor": "white",
             "minorgridcolor": "white",
             "startlinecolor": "#2a3f5f"
            },
            "baxis": {
             "endlinecolor": "#2a3f5f",
             "gridcolor": "white",
             "linecolor": "white",
             "minorgridcolor": "white",
             "startlinecolor": "#2a3f5f"
            },
            "type": "carpet"
           }
          ],
          "choropleth": [
           {
            "colorbar": {
             "outlinewidth": 0,
             "ticks": ""
            },
            "type": "choropleth"
           }
          ],
          "contour": [
           {
            "colorbar": {
             "outlinewidth": 0,
             "ticks": ""
            },
            "colorscale": [
             [
              0,
              "#0d0887"
             ],
             [
              0.1111111111111111,
              "#46039f"
             ],
             [
              0.2222222222222222,
              "#7201a8"
             ],
             [
              0.3333333333333333,
              "#9c179e"
             ],
             [
              0.4444444444444444,
              "#bd3786"
             ],
             [
              0.5555555555555556,
              "#d8576b"
             ],
             [
              0.6666666666666666,
              "#ed7953"
             ],
             [
              0.7777777777777778,
              "#fb9f3a"
             ],
             [
              0.8888888888888888,
              "#fdca26"
             ],
             [
              1,
              "#f0f921"
             ]
            ],
            "type": "contour"
           }
          ],
          "contourcarpet": [
           {
            "colorbar": {
             "outlinewidth": 0,
             "ticks": ""
            },
            "type": "contourcarpet"
           }
          ],
          "heatmap": [
           {
            "colorbar": {
             "outlinewidth": 0,
             "ticks": ""
            },
            "colorscale": [
             [
              0,
              "#0d0887"
             ],
             [
              0.1111111111111111,
              "#46039f"
             ],
             [
              0.2222222222222222,
              "#7201a8"
             ],
             [
              0.3333333333333333,
              "#9c179e"
             ],
             [
              0.4444444444444444,
              "#bd3786"
             ],
             [
              0.5555555555555556,
              "#d8576b"
             ],
             [
              0.6666666666666666,
              "#ed7953"
             ],
             [
              0.7777777777777778,
              "#fb9f3a"
             ],
             [
              0.8888888888888888,
              "#fdca26"
             ],
             [
              1,
              "#f0f921"
             ]
            ],
            "type": "heatmap"
           }
          ],
          "heatmapgl": [
           {
            "colorbar": {
             "outlinewidth": 0,
             "ticks": ""
            },
            "colorscale": [
             [
              0,
              "#0d0887"
             ],
             [
              0.1111111111111111,
              "#46039f"
             ],
             [
              0.2222222222222222,
              "#7201a8"
             ],
             [
              0.3333333333333333,
              "#9c179e"
             ],
             [
              0.4444444444444444,
              "#bd3786"
             ],
             [
              0.5555555555555556,
              "#d8576b"
             ],
             [
              0.6666666666666666,
              "#ed7953"
             ],
             [
              0.7777777777777778,
              "#fb9f3a"
             ],
             [
              0.8888888888888888,
              "#fdca26"
             ],
             [
              1,
              "#f0f921"
             ]
            ],
            "type": "heatmapgl"
           }
          ],
          "histogram": [
           {
            "marker": {
             "pattern": {
              "fillmode": "overlay",
              "size": 10,
              "solidity": 0.2
             }
            },
            "type": "histogram"
           }
          ],
          "histogram2d": [
           {
            "colorbar": {
             "outlinewidth": 0,
             "ticks": ""
            },
            "colorscale": [
             [
              0,
              "#0d0887"
             ],
             [
              0.1111111111111111,
              "#46039f"
             ],
             [
              0.2222222222222222,
              "#7201a8"
             ],
             [
              0.3333333333333333,
              "#9c179e"
             ],
             [
              0.4444444444444444,
              "#bd3786"
             ],
             [
              0.5555555555555556,
              "#d8576b"
             ],
             [
              0.6666666666666666,
              "#ed7953"
             ],
             [
              0.7777777777777778,
              "#fb9f3a"
             ],
             [
              0.8888888888888888,
              "#fdca26"
             ],
             [
              1,
              "#f0f921"
             ]
            ],
            "type": "histogram2d"
           }
          ],
          "histogram2dcontour": [
           {
            "colorbar": {
             "outlinewidth": 0,
             "ticks": ""
            },
            "colorscale": [
             [
              0,
              "#0d0887"
             ],
             [
              0.1111111111111111,
              "#46039f"
             ],
             [
              0.2222222222222222,
              "#7201a8"
             ],
             [
              0.3333333333333333,
              "#9c179e"
             ],
             [
              0.4444444444444444,
              "#bd3786"
             ],
             [
              0.5555555555555556,
              "#d8576b"
             ],
             [
              0.6666666666666666,
              "#ed7953"
             ],
             [
              0.7777777777777778,
              "#fb9f3a"
             ],
             [
              0.8888888888888888,
              "#fdca26"
             ],
             [
              1,
              "#f0f921"
             ]
            ],
            "type": "histogram2dcontour"
           }
          ],
          "mesh3d": [
           {
            "colorbar": {
             "outlinewidth": 0,
             "ticks": ""
            },
            "type": "mesh3d"
           }
          ],
          "parcoords": [
           {
            "line": {
             "colorbar": {
              "outlinewidth": 0,
              "ticks": ""
             }
            },
            "type": "parcoords"
           }
          ],
          "pie": [
           {
            "automargin": true,
            "type": "pie"
           }
          ],
          "scatter": [
           {
            "fillpattern": {
             "fillmode": "overlay",
             "size": 10,
             "solidity": 0.2
            },
            "type": "scatter"
           }
          ],
          "scatter3d": [
           {
            "line": {
             "colorbar": {
              "outlinewidth": 0,
              "ticks": ""
             }
            },
            "marker": {
             "colorbar": {
              "outlinewidth": 0,
              "ticks": ""
             }
            },
            "type": "scatter3d"
           }
          ],
          "scattercarpet": [
           {
            "marker": {
             "colorbar": {
              "outlinewidth": 0,
              "ticks": ""
             }
            },
            "type": "scattercarpet"
           }
          ],
          "scattergeo": [
           {
            "marker": {
             "colorbar": {
              "outlinewidth": 0,
              "ticks": ""
             }
            },
            "type": "scattergeo"
           }
          ],
          "scattergl": [
           {
            "marker": {
             "colorbar": {
              "outlinewidth": 0,
              "ticks": ""
             }
            },
            "type": "scattergl"
           }
          ],
          "scattermapbox": [
           {
            "marker": {
             "colorbar": {
              "outlinewidth": 0,
              "ticks": ""
             }
            },
            "type": "scattermapbox"
           }
          ],
          "scatterpolar": [
           {
            "marker": {
             "colorbar": {
              "outlinewidth": 0,
              "ticks": ""
             }
            },
            "type": "scatterpolar"
           }
          ],
          "scatterpolargl": [
           {
            "marker": {
             "colorbar": {
              "outlinewidth": 0,
              "ticks": ""
             }
            },
            "type": "scatterpolargl"
           }
          ],
          "scatterternary": [
           {
            "marker": {
             "colorbar": {
              "outlinewidth": 0,
              "ticks": ""
             }
            },
            "type": "scatterternary"
           }
          ],
          "surface": [
           {
            "colorbar": {
             "outlinewidth": 0,
             "ticks": ""
            },
            "colorscale": [
             [
              0,
              "#0d0887"
             ],
             [
              0.1111111111111111,
              "#46039f"
             ],
             [
              0.2222222222222222,
              "#7201a8"
             ],
             [
              0.3333333333333333,
              "#9c179e"
             ],
             [
              0.4444444444444444,
              "#bd3786"
             ],
             [
              0.5555555555555556,
              "#d8576b"
             ],
             [
              0.6666666666666666,
              "#ed7953"
             ],
             [
              0.7777777777777778,
              "#fb9f3a"
             ],
             [
              0.8888888888888888,
              "#fdca26"
             ],
             [
              1,
              "#f0f921"
             ]
            ],
            "type": "surface"
           }
          ],
          "table": [
           {
            "cells": {
             "fill": {
              "color": "#EBF0F8"
             },
             "line": {
              "color": "white"
             }
            },
            "header": {
             "fill": {
              "color": "#C8D4E3"
             },
             "line": {
              "color": "white"
             }
            },
            "type": "table"
           }
          ]
         },
         "layout": {
          "annotationdefaults": {
           "arrowcolor": "#2a3f5f",
           "arrowhead": 0,
           "arrowwidth": 1
          },
          "autotypenumbers": "strict",
          "coloraxis": {
           "colorbar": {
            "outlinewidth": 0,
            "ticks": ""
           }
          },
          "colorscale": {
           "diverging": [
            [
             0,
             "#8e0152"
            ],
            [
             0.1,
             "#c51b7d"
            ],
            [
             0.2,
             "#de77ae"
            ],
            [
             0.3,
             "#f1b6da"
            ],
            [
             0.4,
             "#fde0ef"
            ],
            [
             0.5,
             "#f7f7f7"
            ],
            [
             0.6,
             "#e6f5d0"
            ],
            [
             0.7,
             "#b8e186"
            ],
            [
             0.8,
             "#7fbc41"
            ],
            [
             0.9,
             "#4d9221"
            ],
            [
             1,
             "#276419"
            ]
           ],
           "sequential": [
            [
             0,
             "#0d0887"
            ],
            [
             0.1111111111111111,
             "#46039f"
            ],
            [
             0.2222222222222222,
             "#7201a8"
            ],
            [
             0.3333333333333333,
             "#9c179e"
            ],
            [
             0.4444444444444444,
             "#bd3786"
            ],
            [
             0.5555555555555556,
             "#d8576b"
            ],
            [
             0.6666666666666666,
             "#ed7953"
            ],
            [
             0.7777777777777778,
             "#fb9f3a"
            ],
            [
             0.8888888888888888,
             "#fdca26"
            ],
            [
             1,
             "#f0f921"
            ]
           ],
           "sequentialminus": [
            [
             0,
             "#0d0887"
            ],
            [
             0.1111111111111111,
             "#46039f"
            ],
            [
             0.2222222222222222,
             "#7201a8"
            ],
            [
             0.3333333333333333,
             "#9c179e"
            ],
            [
             0.4444444444444444,
             "#bd3786"
            ],
            [
             0.5555555555555556,
             "#d8576b"
            ],
            [
             0.6666666666666666,
             "#ed7953"
            ],
            [
             0.7777777777777778,
             "#fb9f3a"
            ],
            [
             0.8888888888888888,
             "#fdca26"
            ],
            [
             1,
             "#f0f921"
            ]
           ]
          },
          "colorway": [
           "#636efa",
           "#EF553B",
           "#00cc96",
           "#ab63fa",
           "#FFA15A",
           "#19d3f3",
           "#FF6692",
           "#B6E880",
           "#FF97FF",
           "#FECB52"
          ],
          "font": {
           "color": "#2a3f5f"
          },
          "geo": {
           "bgcolor": "white",
           "lakecolor": "white",
           "landcolor": "#E5ECF6",
           "showlakes": true,
           "showland": true,
           "subunitcolor": "white"
          },
          "hoverlabel": {
           "align": "left"
          },
          "hovermode": "closest",
          "mapbox": {
           "style": "light"
          },
          "paper_bgcolor": "white",
          "plot_bgcolor": "#E5ECF6",
          "polar": {
           "angularaxis": {
            "gridcolor": "white",
            "linecolor": "white",
            "ticks": ""
           },
           "bgcolor": "#E5ECF6",
           "radialaxis": {
            "gridcolor": "white",
            "linecolor": "white",
            "ticks": ""
           }
          },
          "scene": {
           "xaxis": {
            "backgroundcolor": "#E5ECF6",
            "gridcolor": "white",
            "gridwidth": 2,
            "linecolor": "white",
            "showbackground": true,
            "ticks": "",
            "zerolinecolor": "white"
           },
           "yaxis": {
            "backgroundcolor": "#E5ECF6",
            "gridcolor": "white",
            "gridwidth": 2,
            "linecolor": "white",
            "showbackground": true,
            "ticks": "",
            "zerolinecolor": "white"
           },
           "zaxis": {
            "backgroundcolor": "#E5ECF6",
            "gridcolor": "white",
            "gridwidth": 2,
            "linecolor": "white",
            "showbackground": true,
            "ticks": "",
            "zerolinecolor": "white"
           }
          },
          "shapedefaults": {
           "line": {
            "color": "#2a3f5f"
           }
          },
          "ternary": {
           "aaxis": {
            "gridcolor": "white",
            "linecolor": "white",
            "ticks": ""
           },
           "baxis": {
            "gridcolor": "white",
            "linecolor": "white",
            "ticks": ""
           },
           "bgcolor": "#E5ECF6",
           "caxis": {
            "gridcolor": "white",
            "linecolor": "white",
            "ticks": ""
           }
          },
          "title": {
           "x": 0.05
          },
          "xaxis": {
           "automargin": true,
           "gridcolor": "white",
           "linecolor": "white",
           "ticks": "",
           "title": {
            "standoff": 15
           },
           "zerolinecolor": "white",
           "zerolinewidth": 2
          },
          "yaxis": {
           "automargin": true,
           "gridcolor": "white",
           "linecolor": "white",
           "ticks": "",
           "title": {
            "standoff": 15
           },
           "zerolinecolor": "white",
           "zerolinewidth": 2
          }
         }
        },
        "title": {
         "text": "Evolution of Economic Indicators in  Vietnam"
        },
        "xaxis": {
         "title": {
          "text": "Years"
         }
        },
        "yaxis": {
         "title": {
          "text": "Value (%)"
         }
        }
       }
      }
     },
     "metadata": {},
     "output_type": "display_data"
    }
   ],
   "source": [
    "\n",
    "years = year\n",
    "\n",
    "# Create traces\n",
    "\n",
    "trace1 = go.Scatter(x=years, y=c_train, mode='lines+markers', name='Growth Economique (%)')\n",
    "\n",
    "trace2 = go.Scatter(x=years, y=i_train, mode='lines+markers', name='Inflation (%)')\n",
    "\n",
    "trace3 = go.Scatter(x=years, y=v_train, mode='lines+markers', name='Unemployment rate (%)')\n",
    "\n",
    "data = [trace1, trace2, trace3]\n",
    "\n",
    "layout = go.Layout(\n",
    "\n",
    "    title='Evolution of Economic Indicators in  Vietnam',\n",
    "\n",
    "    xaxis=dict(title='Years'),\n",
    "\n",
    "    yaxis=dict(title='Value (%)'),\n",
    "\n",
    "    hovermode='x unified'  # Show all values when hovering\n",
    "\n",
    ")\n",
    "\n",
    "fig = go.Figure(data=data, layout=layout)\n",
    "fig.show()\n"
   ]
  },
  {
   "cell_type": "code",
   "execution_count": 15,
   "id": "ca65599b",
   "metadata": {},
   "outputs": [
    {
     "name": "stdout",
     "output_type": "stream",
     "text": [
      "\n",
      "--- Analyse  year2015 ---\n",
      "Growth gap : 0.5\n",
      "Unemployment gap    : -0.4999999999999998\n",
      "Inflation gap: -2.9\n",
      "High growth: risk of economic overheating.\n",
      "Low unemployment: risk of tension on the labor market.\n",
      "Low inflation: risk of deflation.\n",
      "\n",
      "--- Analyse  year2016 ---\n",
      "Growth gap : 0.5\n",
      "Unemployment gap    : -0.4999999999999998\n",
      "Inflation gap: -2.9\n",
      "High growth: risk of economic overheating.\n",
      "Low unemployment: risk of tension on the labor market.\n",
      "Low inflation: risk of deflation.\n",
      "\n",
      "--- Analyse  year2017 ---\n",
      "Growth gap : 0.5\n",
      "Unemployment gap    : -0.4999999999999998\n",
      "Inflation gap: -2.9\n",
      "High growth: risk of economic overheating.\n",
      "Low unemployment: risk of tension on the labor market.\n",
      "Low inflation: risk of deflation.\n",
      "\n",
      "--- Analyse  year2018 ---\n",
      "Growth gap : 0.5\n",
      "Unemployment gap    : -0.4999999999999998\n",
      "Inflation gap: -2.9\n",
      "High growth: risk of economic overheating.\n",
      "Low unemployment: risk of tension on the labor market.\n",
      "Low inflation: risk of deflation.\n",
      "\n",
      "--- Analyse  year2019 ---\n",
      "Growth gap : 0.5\n",
      "Unemployment gap    : -0.4999999999999998\n",
      "Inflation gap: -2.9\n",
      "High growth: risk of economic overheating.\n",
      "Low unemployment: risk of tension on the labor market.\n",
      "Low inflation: risk of deflation.\n",
      "\n",
      "--- Analyse  year2020 ---\n",
      "Growth gap : 0.5\n",
      "Unemployment gap    : -0.4999999999999998\n",
      "Inflation gap: -2.9\n",
      "High growth: risk of economic overheating.\n",
      "Low unemployment: risk of tension on the labor market.\n",
      "Low inflation: risk of deflation.\n",
      "\n",
      "--- Analyse  year2021 ---\n",
      "Growth gap : 0.5\n",
      "Unemployment gap    : -0.4999999999999998\n",
      "Inflation gap: -2.9\n",
      "High growth: risk of economic overheating.\n",
      "Low unemployment: risk of tension on the labor market.\n",
      "Low inflation: risk of deflation.\n",
      "\n",
      "--- Analyse  year2022 ---\n",
      "Growth gap : 0.5\n",
      "Unemployment gap    : -0.4999999999999998\n",
      "Inflation gap: -2.9\n",
      "High growth: risk of economic overheating.\n",
      "Low unemployment: risk of tension on the labor market.\n",
      "Low inflation: risk of deflation.\n",
      "\n",
      "--- Analyse  year2023 ---\n",
      "Growth gap : 0.5\n",
      "Unemployment gap    : -0.4999999999999998\n",
      "Inflation gap: -2.9\n",
      "High growth: risk of economic overheating.\n",
      "Low unemployment: risk of tension on the labor market.\n",
      "Low inflation: risk of deflation.\n",
      "\n",
      "--- Analyse  year2024 ---\n",
      "Growth gap : 0.5\n",
      "Unemployment gap    : -0.4999999999999998\n",
      "Inflation gap: -2.9\n",
      "High growth: risk of economic overheating.\n",
      "Low unemployment: risk of tension on the labor market.\n",
      "Low inflation: risk of deflation.\n",
      "\n",
      "--- Analyse  year2015 ---\n",
      "Growth gap : 0.20000000000000018\n",
      "Unemployment gap    : -0.4999999999999998\n",
      "Inflation gap: -0.7999999999999998\n",
      "High growth: risk of economic overheating.\n",
      "Low unemployment: risk of tension on the labor market.\n",
      "Low inflation: risk of deflation.\n",
      "\n",
      "--- Analyse  year2016 ---\n",
      "Growth gap : 0.20000000000000018\n",
      "Unemployment gap    : -0.4999999999999998\n",
      "Inflation gap: -0.7999999999999998\n",
      "High growth: risk of economic overheating.\n",
      "Low unemployment: risk of tension on the labor market.\n",
      "Low inflation: risk of deflation.\n",
      "\n",
      "--- Analyse  year2017 ---\n",
      "Growth gap : 0.20000000000000018\n",
      "Unemployment gap    : -0.4999999999999998\n",
      "Inflation gap: -0.7999999999999998\n",
      "High growth: risk of economic overheating.\n",
      "Low unemployment: risk of tension on the labor market.\n",
      "Low inflation: risk of deflation.\n",
      "\n",
      "--- Analyse  year2018 ---\n",
      "Growth gap : 0.20000000000000018\n",
      "Unemployment gap    : -0.4999999999999998\n",
      "Inflation gap: -0.7999999999999998\n",
      "High growth: risk of economic overheating.\n",
      "Low unemployment: risk of tension on the labor market.\n",
      "Low inflation: risk of deflation.\n",
      "\n",
      "--- Analyse  year2019 ---\n",
      "Growth gap : 0.20000000000000018\n",
      "Unemployment gap    : -0.4999999999999998\n",
      "Inflation gap: -0.7999999999999998\n",
      "High growth: risk of economic overheating.\n",
      "Low unemployment: risk of tension on the labor market.\n",
      "Low inflation: risk of deflation.\n",
      "\n",
      "--- Analyse  year2020 ---\n",
      "Growth gap : 0.20000000000000018\n",
      "Unemployment gap    : -0.4999999999999998\n",
      "Inflation gap: -0.7999999999999998\n",
      "High growth: risk of economic overheating.\n",
      "Low unemployment: risk of tension on the labor market.\n",
      "Low inflation: risk of deflation.\n",
      "\n",
      "--- Analyse  year2021 ---\n",
      "Growth gap : 0.20000000000000018\n",
      "Unemployment gap    : -0.4999999999999998\n",
      "Inflation gap: -0.7999999999999998\n",
      "High growth: risk of economic overheating.\n",
      "Low unemployment: risk of tension on the labor market.\n",
      "Low inflation: risk of deflation.\n",
      "\n",
      "--- Analyse  year2022 ---\n",
      "Growth gap : 0.20000000000000018\n",
      "Unemployment gap    : -0.4999999999999998\n",
      "Inflation gap: -0.7999999999999998\n",
      "High growth: risk of economic overheating.\n",
      "Low unemployment: risk of tension on the labor market.\n",
      "Low inflation: risk of deflation.\n",
      "\n",
      "--- Analyse  year2023 ---\n",
      "Growth gap : 0.20000000000000018\n",
      "Unemployment gap    : -0.4999999999999998\n",
      "Inflation gap: -0.7999999999999998\n",
      "High growth: risk of economic overheating.\n",
      "Low unemployment: risk of tension on the labor market.\n",
      "Low inflation: risk of deflation.\n",
      "\n",
      "--- Analyse  year2024 ---\n",
      "Growth gap : 0.20000000000000018\n",
      "Unemployment gap    : -0.4999999999999998\n",
      "Inflation gap: -0.7999999999999998\n",
      "High growth: risk of economic overheating.\n",
      "Low unemployment: risk of tension on the labor market.\n",
      "Low inflation: risk of deflation.\n",
      "\n",
      "--- Analyse  year2015 ---\n",
      "Growth gap : 0.40000000000000036\n",
      "Unemployment gap    : -0.3999999999999999\n",
      "Inflation gap: 0.0\n",
      "High growth: risk of economic overheating.\n",
      "Low unemployment: risk of tension on the labor market.\n",
      "Stable inflation.\n",
      "\n",
      "--- Analyse  year2016 ---\n",
      "Growth gap : 0.40000000000000036\n",
      "Unemployment gap    : -0.3999999999999999\n",
      "Inflation gap: 0.0\n",
      "High growth: risk of economic overheating.\n",
      "Low unemployment: risk of tension on the labor market.\n",
      "Stable inflation.\n",
      "\n",
      "--- Analyse  year2017 ---\n",
      "Growth gap : 0.40000000000000036\n",
      "Unemployment gap    : -0.3999999999999999\n",
      "Inflation gap: 0.0\n",
      "High growth: risk of economic overheating.\n",
      "Low unemployment: risk of tension on the labor market.\n",
      "Stable inflation.\n",
      "\n",
      "--- Analyse  year2018 ---\n",
      "Growth gap : 0.40000000000000036\n",
      "Unemployment gap    : -0.3999999999999999\n",
      "Inflation gap: 0.0\n",
      "High growth: risk of economic overheating.\n",
      "Low unemployment: risk of tension on the labor market.\n",
      "Stable inflation.\n",
      "\n",
      "--- Analyse  year2019 ---\n",
      "Growth gap : 0.40000000000000036\n",
      "Unemployment gap    : -0.3999999999999999\n",
      "Inflation gap: 0.0\n",
      "High growth: risk of economic overheating.\n",
      "Low unemployment: risk of tension on the labor market.\n",
      "Stable inflation.\n",
      "\n",
      "--- Analyse  year2020 ---\n",
      "Growth gap : 0.40000000000000036\n",
      "Unemployment gap    : -0.3999999999999999\n",
      "Inflation gap: 0.0\n",
      "High growth: risk of economic overheating.\n",
      "Low unemployment: risk of tension on the labor market.\n",
      "Stable inflation.\n",
      "\n",
      "--- Analyse  year2021 ---\n",
      "Growth gap : 0.40000000000000036\n",
      "Unemployment gap    : -0.3999999999999999\n",
      "Inflation gap: 0.0\n",
      "High growth: risk of economic overheating.\n",
      "Low unemployment: risk of tension on the labor market.\n",
      "Stable inflation.\n",
      "\n",
      "--- Analyse  year2022 ---\n",
      "Growth gap : 0.40000000000000036\n",
      "Unemployment gap    : -0.3999999999999999\n",
      "Inflation gap: 0.0\n",
      "High growth: risk of economic overheating.\n",
      "Low unemployment: risk of tension on the labor market.\n",
      "Stable inflation.\n",
      "\n",
      "--- Analyse  year2023 ---\n",
      "Growth gap : 0.40000000000000036\n",
      "Unemployment gap    : -0.3999999999999999\n",
      "Inflation gap: 0.0\n",
      "High growth: risk of economic overheating.\n",
      "Low unemployment: risk of tension on the labor market.\n",
      "Stable inflation.\n",
      "\n",
      "--- Analyse  year2024 ---\n",
      "Growth gap : 0.40000000000000036\n",
      "Unemployment gap    : -0.3999999999999999\n",
      "Inflation gap: 0.0\n",
      "High growth: risk of economic overheating.\n",
      "Low unemployment: risk of tension on the labor market.\n",
      "Stable inflation.\n",
      "\n",
      "--- Analyse  year2015 ---\n",
      "Growth gap : 1.0\n",
      "Unemployment gap    : -1.0999999999999999\n",
      "Inflation gap: 0.0\n",
      "High growth: risk of economic overheating.\n",
      "Low unemployment: risk of tension on the labor market.\n",
      "Stable inflation.\n",
      "\n",
      "--- Analyse  year2016 ---\n",
      "Growth gap : 1.0\n",
      "Unemployment gap    : -1.0999999999999999\n",
      "Inflation gap: 0.0\n",
      "High growth: risk of economic overheating.\n",
      "Low unemployment: risk of tension on the labor market.\n",
      "Stable inflation.\n",
      "\n",
      "--- Analyse  year2017 ---\n",
      "Growth gap : 1.0\n",
      "Unemployment gap    : -1.0999999999999999\n",
      "Inflation gap: 0.0\n",
      "High growth: risk of economic overheating.\n",
      "Low unemployment: risk of tension on the labor market.\n",
      "Stable inflation.\n",
      "\n",
      "--- Analyse  year2018 ---\n",
      "Growth gap : 1.0\n",
      "Unemployment gap    : -1.0999999999999999\n",
      "Inflation gap: 0.0\n",
      "High growth: risk of economic overheating.\n",
      "Low unemployment: risk of tension on the labor market.\n",
      "Stable inflation.\n",
      "\n",
      "--- Analyse  year2019 ---\n",
      "Growth gap : 1.0\n",
      "Unemployment gap    : -1.0999999999999999\n",
      "Inflation gap: 0.0\n",
      "High growth: risk of economic overheating.\n",
      "Low unemployment: risk of tension on the labor market.\n",
      "Stable inflation.\n",
      "\n",
      "--- Analyse  year2020 ---\n",
      "Growth gap : 1.0\n",
      "Unemployment gap    : -1.0999999999999999\n",
      "Inflation gap: 0.0\n",
      "High growth: risk of economic overheating.\n",
      "Low unemployment: risk of tension on the labor market.\n",
      "Stable inflation.\n",
      "\n",
      "--- Analyse  year2021 ---\n",
      "Growth gap : 1.0\n",
      "Unemployment gap    : -1.0999999999999999\n",
      "Inflation gap: 0.0\n",
      "High growth: risk of economic overheating.\n",
      "Low unemployment: risk of tension on the labor market.\n",
      "Stable inflation.\n",
      "\n",
      "--- Analyse  year2022 ---\n",
      "Growth gap : 1.0\n",
      "Unemployment gap    : -1.0999999999999999\n",
      "Inflation gap: 0.0\n",
      "High growth: risk of economic overheating.\n",
      "Low unemployment: risk of tension on the labor market.\n",
      "Stable inflation.\n",
      "\n",
      "--- Analyse  year2023 ---\n",
      "Growth gap : 1.0\n",
      "Unemployment gap    : -1.0999999999999999\n",
      "Inflation gap: 0.0\n",
      "High growth: risk of economic overheating.\n",
      "Low unemployment: risk of tension on the labor market.\n",
      "Stable inflation.\n",
      "\n",
      "--- Analyse  year2024 ---\n",
      "Growth gap : 1.0\n",
      "Unemployment gap    : -1.0999999999999999\n",
      "Inflation gap: 0.0\n",
      "High growth: risk of economic overheating.\n",
      "Low unemployment: risk of tension on the labor market.\n",
      "Stable inflation.\n",
      "\n",
      "--- Analyse  year2015 ---\n",
      "Growth gap : 0.9000000000000004\n",
      "Unemployment gap    : -0.5999999999999999\n",
      "Inflation gap: -0.7000000000000002\n",
      "High growth: risk of economic overheating.\n",
      "Low unemployment: risk of tension on the labor market.\n",
      "Low inflation: risk of deflation.\n",
      "\n",
      "--- Analyse  year2016 ---\n",
      "Growth gap : 0.9000000000000004\n",
      "Unemployment gap    : -0.5999999999999999\n",
      "Inflation gap: -0.7000000000000002\n",
      "High growth: risk of economic overheating.\n",
      "Low unemployment: risk of tension on the labor market.\n",
      "Low inflation: risk of deflation.\n",
      "\n",
      "--- Analyse  year2017 ---\n",
      "Growth gap : 0.9000000000000004\n",
      "Unemployment gap    : -0.5999999999999999\n",
      "Inflation gap: -0.7000000000000002\n",
      "High growth: risk of economic overheating.\n",
      "Low unemployment: risk of tension on the labor market.\n",
      "Low inflation: risk of deflation.\n",
      "\n",
      "--- Analyse  year2018 ---\n",
      "Growth gap : 0.9000000000000004\n",
      "Unemployment gap    : -0.5999999999999999\n",
      "Inflation gap: -0.7000000000000002\n",
      "High growth: risk of economic overheating.\n",
      "Low unemployment: risk of tension on the labor market.\n",
      "Low inflation: risk of deflation.\n",
      "\n",
      "--- Analyse  year2019 ---\n",
      "Growth gap : 0.9000000000000004\n",
      "Unemployment gap    : -0.5999999999999999\n",
      "Inflation gap: -0.7000000000000002\n",
      "High growth: risk of economic overheating.\n",
      "Low unemployment: risk of tension on the labor market.\n",
      "Low inflation: risk of deflation.\n",
      "\n",
      "--- Analyse  year2020 ---\n",
      "Growth gap : 0.9000000000000004\n",
      "Unemployment gap    : -0.5999999999999999\n",
      "Inflation gap: -0.7000000000000002\n",
      "High growth: risk of economic overheating.\n",
      "Low unemployment: risk of tension on the labor market.\n",
      "Low inflation: risk of deflation.\n",
      "\n",
      "--- Analyse  year2021 ---\n",
      "Growth gap : 0.9000000000000004\n",
      "Unemployment gap    : -0.5999999999999999\n",
      "Inflation gap: -0.7000000000000002\n",
      "High growth: risk of economic overheating.\n",
      "Low unemployment: risk of tension on the labor market.\n",
      "Low inflation: risk of deflation.\n",
      "\n",
      "--- Analyse  year2022 ---\n",
      "Growth gap : 0.9000000000000004\n",
      "Unemployment gap    : -0.5999999999999999\n",
      "Inflation gap: -0.7000000000000002\n",
      "High growth: risk of economic overheating.\n",
      "Low unemployment: risk of tension on the labor market.\n",
      "Low inflation: risk of deflation.\n",
      "\n",
      "--- Analyse  year2023 ---\n",
      "Growth gap : 0.9000000000000004\n",
      "Unemployment gap    : -0.5999999999999999\n",
      "Inflation gap: -0.7000000000000002\n",
      "High growth: risk of economic overheating.\n",
      "Low unemployment: risk of tension on the labor market.\n",
      "Low inflation: risk of deflation.\n",
      "\n",
      "--- Analyse  year2024 ---\n",
      "Growth gap : 0.9000000000000004\n",
      "Unemployment gap    : -0.5999999999999999\n",
      "Inflation gap: -0.7000000000000002\n",
      "High growth: risk of economic overheating.\n",
      "Low unemployment: risk of tension on the labor market.\n",
      "Low inflation: risk of deflation.\n",
      "\n",
      "--- Analyse  year2015 ---\n",
      "Growth gap : -3.6\n",
      "Unemployment gap    : -0.19999999999999973\n",
      "Inflation gap: -0.2999999999999998\n",
      "We need to stimulate economic growth (e.g. investment, exports))\n",
      "Low unemployment: risk of tension on the labor market.\n",
      "Low inflation: risk of deflation.\n",
      "\n",
      "--- Analyse  year2016 ---\n",
      "Growth gap : -3.6\n",
      "Unemployment gap    : -0.19999999999999973\n",
      "Inflation gap: -0.2999999999999998\n",
      "We need to stimulate economic growth (e.g. investment, exports))\n",
      "Low unemployment: risk of tension on the labor market.\n",
      "Low inflation: risk of deflation.\n",
      "\n",
      "--- Analyse  year2017 ---\n",
      "Growth gap : -3.6\n",
      "Unemployment gap    : -0.19999999999999973\n",
      "Inflation gap: -0.2999999999999998\n",
      "We need to stimulate economic growth (e.g. investment, exports))\n",
      "Low unemployment: risk of tension on the labor market.\n",
      "Low inflation: risk of deflation.\n",
      "\n",
      "--- Analyse  year2018 ---\n",
      "Growth gap : -3.6\n",
      "Unemployment gap    : -0.19999999999999973\n",
      "Inflation gap: -0.2999999999999998\n",
      "We need to stimulate economic growth (e.g. investment, exports))\n",
      "Low unemployment: risk of tension on the labor market.\n",
      "Low inflation: risk of deflation.\n",
      "\n",
      "--- Analyse  year2019 ---\n",
      "Growth gap : -3.6\n",
      "Unemployment gap    : -0.19999999999999973\n",
      "Inflation gap: -0.2999999999999998\n",
      "We need to stimulate economic growth (e.g. investment, exports))\n",
      "Low unemployment: risk of tension on the labor market.\n",
      "Low inflation: risk of deflation.\n",
      "\n",
      "--- Analyse  year2020 ---\n",
      "Growth gap : -3.6\n",
      "Unemployment gap    : -0.19999999999999973\n",
      "Inflation gap: -0.2999999999999998\n",
      "We need to stimulate economic growth (e.g. investment, exports))\n",
      "Low unemployment: risk of tension on the labor market.\n",
      "Low inflation: risk of deflation.\n",
      "\n",
      "--- Analyse  year2021 ---\n",
      "Growth gap : -3.6\n",
      "Unemployment gap    : -0.19999999999999973\n",
      "Inflation gap: -0.2999999999999998\n",
      "We need to stimulate economic growth (e.g. investment, exports))\n",
      "Low unemployment: risk of tension on the labor market.\n",
      "Low inflation: risk of deflation.\n",
      "\n",
      "--- Analyse  year2022 ---\n",
      "Growth gap : -3.6\n",
      "Unemployment gap    : -0.19999999999999973\n",
      "Inflation gap: -0.2999999999999998\n",
      "We need to stimulate economic growth (e.g. investment, exports))\n",
      "Low unemployment: risk of tension on the labor market.\n",
      "Low inflation: risk of deflation.\n",
      "\n",
      "--- Analyse  year2023 ---\n",
      "Growth gap : -3.6\n",
      "Unemployment gap    : -0.19999999999999973\n",
      "Inflation gap: -0.2999999999999998\n",
      "We need to stimulate economic growth (e.g. investment, exports))\n",
      "Low unemployment: risk of tension on the labor market.\n",
      "Low inflation: risk of deflation.\n",
      "\n",
      "--- Analyse  year2024 ---\n",
      "Growth gap : -3.6\n",
      "Unemployment gap    : -0.19999999999999973\n",
      "Inflation gap: -0.2999999999999998\n",
      "We need to stimulate economic growth (e.g. investment, exports))\n",
      "Low unemployment: risk of tension on the labor market.\n",
      "Low inflation: risk of deflation.\n",
      "\n",
      "--- Analyse  year2015 ---\n",
      "Growth gap : -3.9\n",
      "Unemployment gap    : 0.10000000000000009\n",
      "Inflation gap: -1.7\n",
      "We need to stimulate economic growth (e.g. investment, exports))\n",
      "We need to create more jobs. (e.g. industrial policy, training)\n",
      "Low inflation: risk of deflation.\n",
      "\n",
      "--- Analyse  year2016 ---\n",
      "Growth gap : -3.9\n",
      "Unemployment gap    : 0.10000000000000009\n",
      "Inflation gap: -1.7\n",
      "We need to stimulate economic growth (e.g. investment, exports))\n",
      "We need to create more jobs. (e.g. industrial policy, training)\n",
      "Low inflation: risk of deflation.\n",
      "\n",
      "--- Analyse  year2017 ---\n",
      "Growth gap : -3.9\n",
      "Unemployment gap    : 0.10000000000000009\n",
      "Inflation gap: -1.7\n",
      "We need to stimulate economic growth (e.g. investment, exports))\n",
      "We need to create more jobs. (e.g. industrial policy, training)\n",
      "Low inflation: risk of deflation.\n",
      "\n",
      "--- Analyse  year2018 ---\n",
      "Growth gap : -3.9\n",
      "Unemployment gap    : 0.10000000000000009\n",
      "Inflation gap: -1.7\n",
      "We need to stimulate economic growth (e.g. investment, exports))\n",
      "We need to create more jobs. (e.g. industrial policy, training)\n",
      "Low inflation: risk of deflation.\n",
      "\n",
      "--- Analyse  year2019 ---\n",
      "Growth gap : -3.9\n",
      "Unemployment gap    : 0.10000000000000009\n",
      "Inflation gap: -1.7\n",
      "We need to stimulate economic growth (e.g. investment, exports))\n",
      "We need to create more jobs. (e.g. industrial policy, training)\n",
      "Low inflation: risk of deflation.\n",
      "\n",
      "--- Analyse  year2020 ---\n",
      "Growth gap : -3.9\n",
      "Unemployment gap    : 0.10000000000000009\n",
      "Inflation gap: -1.7\n",
      "We need to stimulate economic growth (e.g. investment, exports))\n",
      "We need to create more jobs. (e.g. industrial policy, training)\n",
      "Low inflation: risk of deflation.\n",
      "\n",
      "--- Analyse  year2021 ---\n",
      "Growth gap : -3.9\n",
      "Unemployment gap    : 0.10000000000000009\n",
      "Inflation gap: -1.7\n",
      "We need to stimulate economic growth (e.g. investment, exports))\n",
      "We need to create more jobs. (e.g. industrial policy, training)\n",
      "Low inflation: risk of deflation.\n",
      "\n",
      "--- Analyse  year2022 ---\n",
      "Growth gap : -3.9\n",
      "Unemployment gap    : 0.10000000000000009\n",
      "Inflation gap: -1.7\n",
      "We need to stimulate economic growth (e.g. investment, exports))\n",
      "We need to create more jobs. (e.g. industrial policy, training)\n",
      "Low inflation: risk of deflation.\n",
      "\n",
      "--- Analyse  year2023 ---\n",
      "Growth gap : -3.9\n",
      "Unemployment gap    : 0.10000000000000009\n",
      "Inflation gap: -1.7\n",
      "We need to stimulate economic growth (e.g. investment, exports))\n",
      "We need to create more jobs. (e.g. industrial policy, training)\n",
      "Low inflation: risk of deflation.\n",
      "\n",
      "--- Analyse  year2024 ---\n",
      "Growth gap : -3.9\n",
      "Unemployment gap    : 0.10000000000000009\n",
      "Inflation gap: -1.7\n",
      "We need to stimulate economic growth (e.g. investment, exports))\n",
      "We need to create more jobs. (e.g. industrial policy, training)\n",
      "Low inflation: risk of deflation.\n",
      "\n",
      "--- Analyse  year2015 ---\n",
      "Growth gap : 2.0\n",
      "Unemployment gap    : -0.7999999999999998\n",
      "Inflation gap: -0.2999999999999998\n",
      "High growth: risk of economic overheating.\n",
      "Low unemployment: risk of tension on the labor market.\n",
      "Low inflation: risk of deflation.\n",
      "\n",
      "--- Analyse  year2016 ---\n",
      "Growth gap : 2.0\n",
      "Unemployment gap    : -0.7999999999999998\n",
      "Inflation gap: -0.2999999999999998\n",
      "High growth: risk of economic overheating.\n",
      "Low unemployment: risk of tension on the labor market.\n",
      "Low inflation: risk of deflation.\n",
      "\n",
      "--- Analyse  year2017 ---\n",
      "Growth gap : 2.0\n",
      "Unemployment gap    : -0.7999999999999998\n",
      "Inflation gap: -0.2999999999999998\n",
      "High growth: risk of economic overheating.\n",
      "Low unemployment: risk of tension on the labor market.\n",
      "Low inflation: risk of deflation.\n",
      "\n",
      "--- Analyse  year2018 ---\n",
      "Growth gap : 2.0\n",
      "Unemployment gap    : -0.7999999999999998\n",
      "Inflation gap: -0.2999999999999998\n",
      "High growth: risk of economic overheating.\n",
      "Low unemployment: risk of tension on the labor market.\n",
      "Low inflation: risk of deflation.\n",
      "\n",
      "--- Analyse  year2019 ---\n",
      "Growth gap : 2.0\n",
      "Unemployment gap    : -0.7999999999999998\n",
      "Inflation gap: -0.2999999999999998\n",
      "High growth: risk of economic overheating.\n",
      "Low unemployment: risk of tension on the labor market.\n",
      "Low inflation: risk of deflation.\n",
      "\n",
      "--- Analyse  year2020 ---\n",
      "Growth gap : 2.0\n",
      "Unemployment gap    : -0.7999999999999998\n",
      "Inflation gap: -0.2999999999999998\n",
      "High growth: risk of economic overheating.\n",
      "Low unemployment: risk of tension on the labor market.\n",
      "Low inflation: risk of deflation.\n",
      "\n",
      "--- Analyse  year2021 ---\n",
      "Growth gap : 2.0\n",
      "Unemployment gap    : -0.7999999999999998\n",
      "Inflation gap: -0.2999999999999998\n",
      "High growth: risk of economic overheating.\n",
      "Low unemployment: risk of tension on the labor market.\n",
      "Low inflation: risk of deflation.\n",
      "\n",
      "--- Analyse  year2022 ---\n",
      "Growth gap : 2.0\n",
      "Unemployment gap    : -0.7999999999999998\n",
      "Inflation gap: -0.2999999999999998\n",
      "High growth: risk of economic overheating.\n",
      "Low unemployment: risk of tension on the labor market.\n",
      "Low inflation: risk of deflation.\n",
      "\n",
      "--- Analyse  year2023 ---\n",
      "Growth gap : 2.0\n",
      "Unemployment gap    : -0.7999999999999998\n",
      "Inflation gap: -0.2999999999999998\n",
      "High growth: risk of economic overheating.\n",
      "Low unemployment: risk of tension on the labor market.\n",
      "Low inflation: risk of deflation.\n",
      "\n",
      "--- Analyse  year2024 ---\n",
      "Growth gap : 2.0\n",
      "Unemployment gap    : -0.7999999999999998\n",
      "Inflation gap: -0.2999999999999998\n",
      "High growth: risk of economic overheating.\n",
      "Low unemployment: risk of tension on the labor market.\n",
      "Low inflation: risk of deflation.\n",
      "\n",
      "--- Analyse  year2015 ---\n",
      "Growth gap : -1.4000000000000004\n",
      "Unemployment gap    : -0.6999999999999997\n",
      "Inflation gap: -0.20000000000000018\n",
      "We need to stimulate economic growth (e.g. investment, exports))\n",
      "Low unemployment: risk of tension on the labor market.\n",
      "Low inflation: risk of deflation.\n",
      "\n",
      "--- Analyse  year2016 ---\n",
      "Growth gap : -1.4000000000000004\n",
      "Unemployment gap    : -0.6999999999999997\n",
      "Inflation gap: -0.20000000000000018\n",
      "We need to stimulate economic growth (e.g. investment, exports))\n",
      "Low unemployment: risk of tension on the labor market.\n",
      "Low inflation: risk of deflation.\n",
      "\n",
      "--- Analyse  year2017 ---\n",
      "Growth gap : -1.4000000000000004\n",
      "Unemployment gap    : -0.6999999999999997\n",
      "Inflation gap: -0.20000000000000018\n",
      "We need to stimulate economic growth (e.g. investment, exports))\n",
      "Low unemployment: risk of tension on the labor market.\n",
      "Low inflation: risk of deflation.\n",
      "\n",
      "--- Analyse  year2018 ---\n",
      "Growth gap : -1.4000000000000004\n",
      "Unemployment gap    : -0.6999999999999997\n",
      "Inflation gap: -0.20000000000000018\n",
      "We need to stimulate economic growth (e.g. investment, exports))\n",
      "Low unemployment: risk of tension on the labor market.\n",
      "Low inflation: risk of deflation.\n",
      "\n",
      "--- Analyse  year2019 ---\n",
      "Growth gap : -1.4000000000000004\n",
      "Unemployment gap    : -0.6999999999999997\n",
      "Inflation gap: -0.20000000000000018\n",
      "We need to stimulate economic growth (e.g. investment, exports))\n",
      "Low unemployment: risk of tension on the labor market.\n",
      "Low inflation: risk of deflation.\n",
      "\n",
      "--- Analyse  year2020 ---\n",
      "Growth gap : -1.4000000000000004\n",
      "Unemployment gap    : -0.6999999999999997\n",
      "Inflation gap: -0.20000000000000018\n",
      "We need to stimulate economic growth (e.g. investment, exports))\n",
      "Low unemployment: risk of tension on the labor market.\n",
      "Low inflation: risk of deflation.\n",
      "\n",
      "--- Analyse  year2021 ---\n",
      "Growth gap : -1.4000000000000004\n",
      "Unemployment gap    : -0.6999999999999997\n",
      "Inflation gap: -0.20000000000000018\n",
      "We need to stimulate economic growth (e.g. investment, exports))\n",
      "Low unemployment: risk of tension on the labor market.\n",
      "Low inflation: risk of deflation.\n",
      "\n",
      "--- Analyse  year2022 ---\n",
      "Growth gap : -1.4000000000000004\n",
      "Unemployment gap    : -0.6999999999999997\n",
      "Inflation gap: -0.20000000000000018\n",
      "We need to stimulate economic growth (e.g. investment, exports))\n",
      "Low unemployment: risk of tension on the labor market.\n",
      "Low inflation: risk of deflation.\n",
      "\n",
      "--- Analyse  year2023 ---\n",
      "Growth gap : -1.4000000000000004\n",
      "Unemployment gap    : -0.6999999999999997\n",
      "Inflation gap: -0.20000000000000018\n",
      "We need to stimulate economic growth (e.g. investment, exports))\n",
      "Low unemployment: risk of tension on the labor market.\n",
      "Low inflation: risk of deflation.\n",
      "\n",
      "--- Analyse  year2024 ---\n",
      "Growth gap : -1.4000000000000004\n",
      "Unemployment gap    : -0.6999999999999997\n",
      "Inflation gap: -0.20000000000000018\n",
      "We need to stimulate economic growth (e.g. investment, exports))\n",
      "Low unemployment: risk of tension on the labor market.\n",
      "Low inflation: risk of deflation.\n",
      "\n",
      "--- Analyse  year2015 ---\n",
      "Growth gap : 0.5999999999999996\n",
      "Unemployment gap    : -0.8999999999999999\n",
      "Inflation gap: 0.10000000000000009\n",
      "High growth: risk of economic overheating.\n",
      "Low unemployment: risk of tension on the labor market.\n",
      "Warning: risk of high inflation (e.g. increase the key rate)\n",
      "\n",
      "--- Analyse  year2016 ---\n",
      "Growth gap : 0.5999999999999996\n",
      "Unemployment gap    : -0.8999999999999999\n",
      "Inflation gap: 0.10000000000000009\n",
      "High growth: risk of economic overheating.\n",
      "Low unemployment: risk of tension on the labor market.\n",
      "Warning: risk of high inflation (e.g. increase the key rate)\n",
      "\n",
      "--- Analyse  year2017 ---\n",
      "Growth gap : 0.5999999999999996\n",
      "Unemployment gap    : -0.8999999999999999\n",
      "Inflation gap: 0.10000000000000009\n",
      "High growth: risk of economic overheating.\n",
      "Low unemployment: risk of tension on the labor market.\n",
      "Warning: risk of high inflation (e.g. increase the key rate)\n",
      "\n",
      "--- Analyse  year2018 ---\n",
      "Growth gap : 0.5999999999999996\n",
      "Unemployment gap    : -0.8999999999999999\n",
      "Inflation gap: 0.10000000000000009\n",
      "High growth: risk of economic overheating.\n",
      "Low unemployment: risk of tension on the labor market.\n",
      "Warning: risk of high inflation (e.g. increase the key rate)\n",
      "\n",
      "--- Analyse  year2019 ---\n",
      "Growth gap : 0.5999999999999996\n",
      "Unemployment gap    : -0.8999999999999999\n",
      "Inflation gap: 0.10000000000000009\n",
      "High growth: risk of economic overheating.\n",
      "Low unemployment: risk of tension on the labor market.\n",
      "Warning: risk of high inflation (e.g. increase the key rate)\n",
      "\n",
      "--- Analyse  year2020 ---\n",
      "Growth gap : 0.5999999999999996\n",
      "Unemployment gap    : -0.8999999999999999\n",
      "Inflation gap: 0.10000000000000009\n",
      "High growth: risk of economic overheating.\n",
      "Low unemployment: risk of tension on the labor market.\n",
      "Warning: risk of high inflation (e.g. increase the key rate)\n",
      "\n",
      "--- Analyse  year2021 ---\n",
      "Growth gap : 0.5999999999999996\n",
      "Unemployment gap    : -0.8999999999999999\n",
      "Inflation gap: 0.10000000000000009\n",
      "High growth: risk of economic overheating.\n",
      "Low unemployment: risk of tension on the labor market.\n",
      "Warning: risk of high inflation (e.g. increase the key rate)\n",
      "\n",
      "--- Analyse  year2022 ---\n",
      "Growth gap : 0.5999999999999996\n",
      "Unemployment gap    : -0.8999999999999999\n",
      "Inflation gap: 0.10000000000000009\n",
      "High growth: risk of economic overheating.\n",
      "Low unemployment: risk of tension on the labor market.\n",
      "Warning: risk of high inflation (e.g. increase the key rate)\n",
      "\n",
      "--- Analyse  year2023 ---\n",
      "Growth gap : 0.5999999999999996\n",
      "Unemployment gap    : -0.8999999999999999\n",
      "Inflation gap: 0.10000000000000009\n",
      "High growth: risk of economic overheating.\n",
      "Low unemployment: risk of tension on the labor market.\n",
      "Warning: risk of high inflation (e.g. increase the key rate)\n",
      "\n",
      "--- Analyse  year2024 ---\n",
      "Growth gap : 0.5999999999999996\n",
      "Unemployment gap    : -0.8999999999999999\n",
      "Inflation gap: 0.10000000000000009\n",
      "High growth: risk of economic overheating.\n",
      "Low unemployment: risk of tension on the labor market.\n",
      "Warning: risk of high inflation (e.g. increase the key rate)\n"
     ]
    }
   ],
   "source": [
    "def verifier_equilibre(c_train, v_train, i_train,year):\n",
    " \n",
    "    Growth_cible = 6.5\n",
    " \n",
    "    unemployment_target = 2.3\n",
    " \n",
    "    inflation_target = 3.5\n",
    " \n",
    "    for i in range(len(c_train,)):\n",
    "     for z in range (len(year)):\n",
    "        print(f\"\\n--- Analyse  year{year[z]} ---\")\n",
    " \n",
    "        print(\"Growth gap :\", c_train[i] - Growth_cible)\n",
    " \n",
    "        print(\"Unemployment gap    :\", v_train[i] - unemployment_target)\n",
    " \n",
    "        print(\"Inflation gap:\",i_train[i] - inflation_target)\n",
    " \n",
    "        # GR\n",
    " \n",
    "        if c_train[i] < Growth_cible:\n",
    " \n",
    "            print(\"We need to stimulate economic growth (e.g. investment, exports))\")\n",
    " \n",
    "        elif c_train[i] > Growth_cible:\n",
    " \n",
    "            print(\"High growth: risk of economic overheating.\")\n",
    " \n",
    "        else:\n",
    " \n",
    "            print(\"Balanced economic growth.\")\n",
    " \n",
    "        # Unemployement\n",
    " \n",
    "        if v_train[i] > unemployment_target:\n",
    " \n",
    "            print(\"We need to create more jobs. (e.g. industrial policy, training)\")\n",
    " \n",
    "        elif v_train[i] < unemployment_target:\n",
    " \n",
    "            print(\"Low unemployment: risk of tension on the labor market.\")\n",
    " \n",
    "        else:\n",
    " \n",
    "            print(\"Balanced unemployment rate.\")\n",
    " \n",
    "        # Inflation\n",
    " \n",
    "        if i_train[i] > inflation_target:\n",
    " \n",
    "            print(\"Warning: risk of high inflation (e.g. increase the key rate)\")\n",
    " \n",
    "        elif i_train[i] < inflation_target:\n",
    " \n",
    "            print(\"Low inflation: risk of deflation.\")\n",
    " \n",
    "        else:\n",
    " \n",
    "            print(\"Stable inflation.\")\n",
    "\n",
    "verifier_equilibre(c_train,v_train,i_train,year)\n",
    " "
   ]
  },
  {
   "cell_type": "code",
   "execution_count": 16,
   "id": "1a7d1e30",
   "metadata": {},
   "outputs": [],
   "source": [
    "def equilibrer_dynamique(Growth, Unemployment, inflation, prev_Unemployment, prev_inflation, prev_growth):\n",
    "\n",
    "\n",
    "\n",
    "    Growth += 0.15 * (prev_Unemployment - Unemployment)  \n",
    "\n",
    "    inflation += 0.1 * (prev_inflation - inflation)\n",
    "\n",
    "    Unemployment -= 0.12* (prev_growth -Growth)  \n",
    "\n",
    "\n",
    "    if Unemployment > 3.0:\n",
    "        if Growth > 5.0:\n",
    "\n",
    "            policy = \"Investement and encouraging youth employment\"\n",
    "\n",
    "            Growth += 0.4\n",
    "\n",
    "            Unemployment -= 0.9\n",
    "\n",
    "        else :\n",
    "\n",
    "             policy = \"Massive public investment to boost growth\"\n",
    "\n",
    "             Growth += 0.8\n",
    "\n",
    "             Unemployment -= 0.6\n",
    "\n",
    "    elif inflation < 2.0:\n",
    " \n",
    "        policy = \"Lower the key rate to stimulate consumption\"\n",
    "\n",
    "        Growth += 0.3\n",
    "\n",
    "        inflation += 0.4\n",
    "\n",
    "    elif inflation > 4.5:\n",
    "\n",
    "        policy = \"Increase the key rate to control inflation\"\n",
    "\n",
    "        Growth -= 0.25\n",
    "\n",
    "        inflation -= 0.35\n",
    "\n",
    "    else:\n",
    "\n",
    "        policy = \"Stable situation - Maintain current policy\"\n",
    "    return Growth, Unemployment, inflation, policy"
   ]
  },
  {
   "cell_type": "code",
   "execution_count": 17,
   "id": "da9d74b5",
   "metadata": {},
   "outputs": [
    {
     "name": "stdout",
     "output_type": "stream",
     "text": [
      "Year 2015: Growth: 7.30%, Unemployement: 1.80%, Inflation: 1.00% — Lower the key rate to stimulate consumption\n",
      "Year 2016: Growth: 6.70%, Unemployement: 1.76%, Inflation: 2.53% — Stable situation - Maintain current policy\n",
      "Year 2017: Growth: 6.89%, Unemployement: 1.89%, Inflation: 3.40% — Stable situation - Maintain current policy\n",
      "Year 2018: Growth: 7.59%, Unemployement: 1.27%, Inflation: 3.49% — Stable situation - Maintain current policy\n",
      "Year 2019: Growth: 7.42%, Unemployement: 1.75%, Inflation: 2.87% — Stable situation - Maintain current policy\n",
      "Year 2020: Growth: 2.85%, Unemployement: 1.60%, Inflation: 3.17% — Stable situation - Maintain current policy\n",
      "Year 2021: Growth: 2.81%, Unemployement: 1.86%, Inflation: 2.34% — Lower the key rate to stimulate consumption\n",
      "Year 2022: Growth: 8.54%, Unemployement: 1.69%, Inflation: 3.11% — Stable situation - Maintain current policy\n",
      "Year 2023: Growth: 5.13%, Unemployement: 1.38%, Inflation: 3.28% — Stable situation - Maintain current policy\n",
      "Year 2024: Growth: 7.16%, Unemployement: 1.42%, Inflation: 3.57% — Stable situation - Maintain current policy\n"
     ]
    }
   ],
   "source": [
    "prev_inflation = i_train[0]\n",
    "\n",
    "prev_growth = c_train[0]\n",
    "\n",
    "prev_unemloyement = v_train[0]\n",
    "\n",
    "Growth_list = []\n",
    "\n",
    "Unemployement_list = []\n",
    "\n",
    "inflation_list = []\n",
    "\n",
    "annees = []\n",
    "\n",
    "for i in range(len(c_train)):\n",
    "\n",
    "    Growth = c_train[i]\n",
    "\n",
    "    Unemployement = v_train[i]\n",
    "\n",
    "    inflation = i_train[i]\n",
    "\n",
    "    Growth_eq, Unemployement_eq, inflation_eq, policy = equilibrer_dynamique(\n",
    "\n",
    "        Growth, Unemployement, inflation, prev_unemloyement, prev_inflation, prev_growth)\n",
    "\n",
    "    print(f\"Year {year[i]}: Growth: {Growth_eq:.2f}%, Unemployement: {Unemployement_eq:.2f}%, Inflation: {inflation_eq:.2f}% — {policy}\")\n",
    "\n",
    "    prev_chomage =Unemployement_eq\n",
    "\n",
    "    prev_inflation = inflation_eq\n",
    "\n",
    "    prev_croissance = Growth_eq\n",
    "\n",
    "    annees =np.arange(2015, 2015 + len(c_train))\n",
    "\n",
    "    Growth_list.append(Growth_eq)\n",
    "\n",
    "    Unemployement_list.append(Unemployement_eq)\n",
    "\n",
    "    inflation_list.append(inflation_eq)\n",
    " "
   ]
  },
  {
   "cell_type": "code",
   "execution_count": 18,
   "id": "197762e6",
   "metadata": {},
   "outputs": [
    {
     "data": {
      "application/vnd.plotly.v1+json": {
       "config": {
        "plotlyServerURL": "https://plot.ly"
       },
       "data": [
        {
         "marker": {
          "symbol": "circle"
         },
         "mode": "lines+markers",
         "name": "Balanced Growth",
         "type": "scatter",
         "x": [
          2015,
          2016,
          2017,
          2018,
          2019,
          2020,
          2021,
          2022,
          2023,
          2024
         ],
         "y": [
          7.3,
          6.7,
          6.885000000000001,
          7.59,
          7.415,
          2.855,
          2.81,
          8.545,
          5.13,
          7.159999999999999
         ]
        },
        {
         "marker": {
          "symbol": "square"
         },
         "mode": "lines+markers",
         "name": "Balanced Unemployment",
         "type": "scatter",
         "x": [
          2015,
          2016,
          2017,
          2018,
          2019,
          2020,
          2021,
          2022,
          2023,
          2024
         ],
         "y": [
          1.8,
          1.764,
          1.8862,
          1.2708,
          1.7498,
          1.6026000000000002,
          1.8611999999999997,
          1.6854,
          1.3756000000000002,
          1.4191999999999998
         ]
        },
        {
         "marker": {
          "symbol": "triangle-up"
         },
         "mode": "lines+markers",
         "name": "Balanced Inflation",
         "type": "scatter",
         "x": [
          2015,
          2016,
          2017,
          2018,
          2019,
          2020,
          2021,
          2022,
          2023,
          2024
         ],
         "y": [
          1,
          2.5300000000000002,
          3.403,
          3.4903,
          2.86903,
          3.166903,
          2.3366903,
          3.11366903,
          3.281366903,
          3.5681366903000002
         ]
        }
       ],
       "layout": {
        "height": 550,
        "hovermode": "x unified",
        "legend": {
         "title": {
          "text": "Indicators"
         }
        },
        "template": {
         "data": {
          "bar": [
           {
            "error_x": {
             "color": "#2a3f5f"
            },
            "error_y": {
             "color": "#2a3f5f"
            },
            "marker": {
             "line": {
              "color": "white",
              "width": 0.5
             },
             "pattern": {
              "fillmode": "overlay",
              "size": 10,
              "solidity": 0.2
             }
            },
            "type": "bar"
           }
          ],
          "barpolar": [
           {
            "marker": {
             "line": {
              "color": "white",
              "width": 0.5
             },
             "pattern": {
              "fillmode": "overlay",
              "size": 10,
              "solidity": 0.2
             }
            },
            "type": "barpolar"
           }
          ],
          "carpet": [
           {
            "aaxis": {
             "endlinecolor": "#2a3f5f",
             "gridcolor": "#C8D4E3",
             "linecolor": "#C8D4E3",
             "minorgridcolor": "#C8D4E3",
             "startlinecolor": "#2a3f5f"
            },
            "baxis": {
             "endlinecolor": "#2a3f5f",
             "gridcolor": "#C8D4E3",
             "linecolor": "#C8D4E3",
             "minorgridcolor": "#C8D4E3",
             "startlinecolor": "#2a3f5f"
            },
            "type": "carpet"
           }
          ],
          "choropleth": [
           {
            "colorbar": {
             "outlinewidth": 0,
             "ticks": ""
            },
            "type": "choropleth"
           }
          ],
          "contour": [
           {
            "colorbar": {
             "outlinewidth": 0,
             "ticks": ""
            },
            "colorscale": [
             [
              0,
              "#0d0887"
             ],
             [
              0.1111111111111111,
              "#46039f"
             ],
             [
              0.2222222222222222,
              "#7201a8"
             ],
             [
              0.3333333333333333,
              "#9c179e"
             ],
             [
              0.4444444444444444,
              "#bd3786"
             ],
             [
              0.5555555555555556,
              "#d8576b"
             ],
             [
              0.6666666666666666,
              "#ed7953"
             ],
             [
              0.7777777777777778,
              "#fb9f3a"
             ],
             [
              0.8888888888888888,
              "#fdca26"
             ],
             [
              1,
              "#f0f921"
             ]
            ],
            "type": "contour"
           }
          ],
          "contourcarpet": [
           {
            "colorbar": {
             "outlinewidth": 0,
             "ticks": ""
            },
            "type": "contourcarpet"
           }
          ],
          "heatmap": [
           {
            "colorbar": {
             "outlinewidth": 0,
             "ticks": ""
            },
            "colorscale": [
             [
              0,
              "#0d0887"
             ],
             [
              0.1111111111111111,
              "#46039f"
             ],
             [
              0.2222222222222222,
              "#7201a8"
             ],
             [
              0.3333333333333333,
              "#9c179e"
             ],
             [
              0.4444444444444444,
              "#bd3786"
             ],
             [
              0.5555555555555556,
              "#d8576b"
             ],
             [
              0.6666666666666666,
              "#ed7953"
             ],
             [
              0.7777777777777778,
              "#fb9f3a"
             ],
             [
              0.8888888888888888,
              "#fdca26"
             ],
             [
              1,
              "#f0f921"
             ]
            ],
            "type": "heatmap"
           }
          ],
          "heatmapgl": [
           {
            "colorbar": {
             "outlinewidth": 0,
             "ticks": ""
            },
            "colorscale": [
             [
              0,
              "#0d0887"
             ],
             [
              0.1111111111111111,
              "#46039f"
             ],
             [
              0.2222222222222222,
              "#7201a8"
             ],
             [
              0.3333333333333333,
              "#9c179e"
             ],
             [
              0.4444444444444444,
              "#bd3786"
             ],
             [
              0.5555555555555556,
              "#d8576b"
             ],
             [
              0.6666666666666666,
              "#ed7953"
             ],
             [
              0.7777777777777778,
              "#fb9f3a"
             ],
             [
              0.8888888888888888,
              "#fdca26"
             ],
             [
              1,
              "#f0f921"
             ]
            ],
            "type": "heatmapgl"
           }
          ],
          "histogram": [
           {
            "marker": {
             "pattern": {
              "fillmode": "overlay",
              "size": 10,
              "solidity": 0.2
             }
            },
            "type": "histogram"
           }
          ],
          "histogram2d": [
           {
            "colorbar": {
             "outlinewidth": 0,
             "ticks": ""
            },
            "colorscale": [
             [
              0,
              "#0d0887"
             ],
             [
              0.1111111111111111,
              "#46039f"
             ],
             [
              0.2222222222222222,
              "#7201a8"
             ],
             [
              0.3333333333333333,
              "#9c179e"
             ],
             [
              0.4444444444444444,
              "#bd3786"
             ],
             [
              0.5555555555555556,
              "#d8576b"
             ],
             [
              0.6666666666666666,
              "#ed7953"
             ],
             [
              0.7777777777777778,
              "#fb9f3a"
             ],
             [
              0.8888888888888888,
              "#fdca26"
             ],
             [
              1,
              "#f0f921"
             ]
            ],
            "type": "histogram2d"
           }
          ],
          "histogram2dcontour": [
           {
            "colorbar": {
             "outlinewidth": 0,
             "ticks": ""
            },
            "colorscale": [
             [
              0,
              "#0d0887"
             ],
             [
              0.1111111111111111,
              "#46039f"
             ],
             [
              0.2222222222222222,
              "#7201a8"
             ],
             [
              0.3333333333333333,
              "#9c179e"
             ],
             [
              0.4444444444444444,
              "#bd3786"
             ],
             [
              0.5555555555555556,
              "#d8576b"
             ],
             [
              0.6666666666666666,
              "#ed7953"
             ],
             [
              0.7777777777777778,
              "#fb9f3a"
             ],
             [
              0.8888888888888888,
              "#fdca26"
             ],
             [
              1,
              "#f0f921"
             ]
            ],
            "type": "histogram2dcontour"
           }
          ],
          "mesh3d": [
           {
            "colorbar": {
             "outlinewidth": 0,
             "ticks": ""
            },
            "type": "mesh3d"
           }
          ],
          "parcoords": [
           {
            "line": {
             "colorbar": {
              "outlinewidth": 0,
              "ticks": ""
             }
            },
            "type": "parcoords"
           }
          ],
          "pie": [
           {
            "automargin": true,
            "type": "pie"
           }
          ],
          "scatter": [
           {
            "fillpattern": {
             "fillmode": "overlay",
             "size": 10,
             "solidity": 0.2
            },
            "type": "scatter"
           }
          ],
          "scatter3d": [
           {
            "line": {
             "colorbar": {
              "outlinewidth": 0,
              "ticks": ""
             }
            },
            "marker": {
             "colorbar": {
              "outlinewidth": 0,
              "ticks": ""
             }
            },
            "type": "scatter3d"
           }
          ],
          "scattercarpet": [
           {
            "marker": {
             "colorbar": {
              "outlinewidth": 0,
              "ticks": ""
             }
            },
            "type": "scattercarpet"
           }
          ],
          "scattergeo": [
           {
            "marker": {
             "colorbar": {
              "outlinewidth": 0,
              "ticks": ""
             }
            },
            "type": "scattergeo"
           }
          ],
          "scattergl": [
           {
            "marker": {
             "colorbar": {
              "outlinewidth": 0,
              "ticks": ""
             }
            },
            "type": "scattergl"
           }
          ],
          "scattermapbox": [
           {
            "marker": {
             "colorbar": {
              "outlinewidth": 0,
              "ticks": ""
             }
            },
            "type": "scattermapbox"
           }
          ],
          "scatterpolar": [
           {
            "marker": {
             "colorbar": {
              "outlinewidth": 0,
              "ticks": ""
             }
            },
            "type": "scatterpolar"
           }
          ],
          "scatterpolargl": [
           {
            "marker": {
             "colorbar": {
              "outlinewidth": 0,
              "ticks": ""
             }
            },
            "type": "scatterpolargl"
           }
          ],
          "scatterternary": [
           {
            "marker": {
             "colorbar": {
              "outlinewidth": 0,
              "ticks": ""
             }
            },
            "type": "scatterternary"
           }
          ],
          "surface": [
           {
            "colorbar": {
             "outlinewidth": 0,
             "ticks": ""
            },
            "colorscale": [
             [
              0,
              "#0d0887"
             ],
             [
              0.1111111111111111,
              "#46039f"
             ],
             [
              0.2222222222222222,
              "#7201a8"
             ],
             [
              0.3333333333333333,
              "#9c179e"
             ],
             [
              0.4444444444444444,
              "#bd3786"
             ],
             [
              0.5555555555555556,
              "#d8576b"
             ],
             [
              0.6666666666666666,
              "#ed7953"
             ],
             [
              0.7777777777777778,
              "#fb9f3a"
             ],
             [
              0.8888888888888888,
              "#fdca26"
             ],
             [
              1,
              "#f0f921"
             ]
            ],
            "type": "surface"
           }
          ],
          "table": [
           {
            "cells": {
             "fill": {
              "color": "#EBF0F8"
             },
             "line": {
              "color": "white"
             }
            },
            "header": {
             "fill": {
              "color": "#C8D4E3"
             },
             "line": {
              "color": "white"
             }
            },
            "type": "table"
           }
          ]
         },
         "layout": {
          "annotationdefaults": {
           "arrowcolor": "#2a3f5f",
           "arrowhead": 0,
           "arrowwidth": 1
          },
          "autotypenumbers": "strict",
          "coloraxis": {
           "colorbar": {
            "outlinewidth": 0,
            "ticks": ""
           }
          },
          "colorscale": {
           "diverging": [
            [
             0,
             "#8e0152"
            ],
            [
             0.1,
             "#c51b7d"
            ],
            [
             0.2,
             "#de77ae"
            ],
            [
             0.3,
             "#f1b6da"
            ],
            [
             0.4,
             "#fde0ef"
            ],
            [
             0.5,
             "#f7f7f7"
            ],
            [
             0.6,
             "#e6f5d0"
            ],
            [
             0.7,
             "#b8e186"
            ],
            [
             0.8,
             "#7fbc41"
            ],
            [
             0.9,
             "#4d9221"
            ],
            [
             1,
             "#276419"
            ]
           ],
           "sequential": [
            [
             0,
             "#0d0887"
            ],
            [
             0.1111111111111111,
             "#46039f"
            ],
            [
             0.2222222222222222,
             "#7201a8"
            ],
            [
             0.3333333333333333,
             "#9c179e"
            ],
            [
             0.4444444444444444,
             "#bd3786"
            ],
            [
             0.5555555555555556,
             "#d8576b"
            ],
            [
             0.6666666666666666,
             "#ed7953"
            ],
            [
             0.7777777777777778,
             "#fb9f3a"
            ],
            [
             0.8888888888888888,
             "#fdca26"
            ],
            [
             1,
             "#f0f921"
            ]
           ],
           "sequentialminus": [
            [
             0,
             "#0d0887"
            ],
            [
             0.1111111111111111,
             "#46039f"
            ],
            [
             0.2222222222222222,
             "#7201a8"
            ],
            [
             0.3333333333333333,
             "#9c179e"
            ],
            [
             0.4444444444444444,
             "#bd3786"
            ],
            [
             0.5555555555555556,
             "#d8576b"
            ],
            [
             0.6666666666666666,
             "#ed7953"
            ],
            [
             0.7777777777777778,
             "#fb9f3a"
            ],
            [
             0.8888888888888888,
             "#fdca26"
            ],
            [
             1,
             "#f0f921"
            ]
           ]
          },
          "colorway": [
           "#636efa",
           "#EF553B",
           "#00cc96",
           "#ab63fa",
           "#FFA15A",
           "#19d3f3",
           "#FF6692",
           "#B6E880",
           "#FF97FF",
           "#FECB52"
          ],
          "font": {
           "color": "#2a3f5f"
          },
          "geo": {
           "bgcolor": "white",
           "lakecolor": "white",
           "landcolor": "white",
           "showlakes": true,
           "showland": true,
           "subunitcolor": "#C8D4E3"
          },
          "hoverlabel": {
           "align": "left"
          },
          "hovermode": "closest",
          "mapbox": {
           "style": "light"
          },
          "paper_bgcolor": "white",
          "plot_bgcolor": "white",
          "polar": {
           "angularaxis": {
            "gridcolor": "#EBF0F8",
            "linecolor": "#EBF0F8",
            "ticks": ""
           },
           "bgcolor": "white",
           "radialaxis": {
            "gridcolor": "#EBF0F8",
            "linecolor": "#EBF0F8",
            "ticks": ""
           }
          },
          "scene": {
           "xaxis": {
            "backgroundcolor": "white",
            "gridcolor": "#DFE8F3",
            "gridwidth": 2,
            "linecolor": "#EBF0F8",
            "showbackground": true,
            "ticks": "",
            "zerolinecolor": "#EBF0F8"
           },
           "yaxis": {
            "backgroundcolor": "white",
            "gridcolor": "#DFE8F3",
            "gridwidth": 2,
            "linecolor": "#EBF0F8",
            "showbackground": true,
            "ticks": "",
            "zerolinecolor": "#EBF0F8"
           },
           "zaxis": {
            "backgroundcolor": "white",
            "gridcolor": "#DFE8F3",
            "gridwidth": 2,
            "linecolor": "#EBF0F8",
            "showbackground": true,
            "ticks": "",
            "zerolinecolor": "#EBF0F8"
           }
          },
          "shapedefaults": {
           "line": {
            "color": "#2a3f5f"
           }
          },
          "ternary": {
           "aaxis": {
            "gridcolor": "#DFE8F3",
            "linecolor": "#A2B1C6",
            "ticks": ""
           },
           "baxis": {
            "gridcolor": "#DFE8F3",
            "linecolor": "#A2B1C6",
            "ticks": ""
           },
           "bgcolor": "white",
           "caxis": {
            "gridcolor": "#DFE8F3",
            "linecolor": "#A2B1C6",
            "ticks": ""
           }
          },
          "title": {
           "x": 0.05
          },
          "xaxis": {
           "automargin": true,
           "gridcolor": "#EBF0F8",
           "linecolor": "#EBF0F8",
           "ticks": "",
           "title": {
            "standoff": 15
           },
           "zerolinecolor": "#EBF0F8",
           "zerolinewidth": 2
          },
          "yaxis": {
           "automargin": true,
           "gridcolor": "#EBF0F8",
           "linecolor": "#EBF0F8",
           "ticks": "",
           "title": {
            "standoff": 15
           },
           "zerolinecolor": "#EBF0F8",
           "zerolinewidth": 2
          }
         }
        },
        "title": {
         "text": "Evolution of economic indicators after balance:"
        },
        "width": 900,
        "xaxis": {
         "showgrid": true,
         "title": {
          "text": "Years"
         }
        },
        "yaxis": {
         "showgrid": true,
         "title": {
          "text": "Value (%)"
         }
        }
       }
      }
     },
     "metadata": {},
     "output_type": "display_data"
    }
   ],
   "source": [
    "fig = go.Figure()\n",
    "\n",
    "fig.add_trace(go.Scatter(\n",
    "\n",
    "    x=annees,\n",
    "\n",
    "    y=Growth_list,\n",
    "\n",
    "    mode='lines+markers',\n",
    "\n",
    "    name='Balanced Growth',\n",
    "\n",
    "    marker=dict(symbol='circle')\n",
    "\n",
    "))\n",
    "\n",
    "fig.add_trace(go.Scatter(\n",
    "\n",
    "    x=annees,\n",
    "\n",
    "    y=Unemployement_list,\n",
    "\n",
    "    mode='lines+markers',\n",
    "\n",
    "    name='Balanced Unemployment',\n",
    "\n",
    "    marker=dict(symbol='square')\n",
    "\n",
    "))\n",
    "\n",
    "fig.add_trace(go.Scatter(\n",
    "\n",
    "    x=annees,\n",
    "\n",
    "    y=inflation_list,\n",
    "\n",
    "    mode='lines+markers',\n",
    "\n",
    "    name='Balanced Inflation',\n",
    "\n",
    "    marker=dict(symbol='triangle-up')\n",
    "\n",
    "))\n",
    "\n",
    "fig.update_layout(\n",
    "\n",
    "    title=\"Evolution of economic indicators after balance:\",\n",
    "\n",
    "    xaxis_title=\"Years\",\n",
    "\n",
    "    yaxis_title=\"Value (%)\",\n",
    "\n",
    "    legend_title=\"Indicators\",\n",
    "\n",
    "    template=\"plotly_white\",\n",
    "\n",
    "    width=900,\n",
    "\n",
    "    height=550,\n",
    "\n",
    "    hovermode='x unified',\n",
    "\n",
    "    xaxis=dict(showgrid=True),\n",
    "\n",
    "    yaxis=dict(showgrid=True)\n",
    "\n",
    ")\n",
    "\n",
    "fig.show()\n",
    " "
   ]
  }
 ],
 "metadata": {
  "kernelspec": {
   "display_name": "base",
   "language": "python",
   "name": "python3"
  },
  "language_info": {
   "codemirror_mode": {
    "name": "ipython",
    "version": 3
   },
   "file_extension": ".py",
   "mimetype": "text/x-python",
   "name": "python",
   "nbconvert_exporter": "python",
   "pygments_lexer": "ipython3",
   "version": "3.12.4"
  }
 },
 "nbformat": 4,
 "nbformat_minor": 5
}
